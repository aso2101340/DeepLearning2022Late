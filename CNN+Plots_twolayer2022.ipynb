{
  "nbformat": 4,
  "nbformat_minor": 0,
  "metadata": {
    "colab": {
      "provenance": [],
      "authorship_tag": "ABX9TyPK7HnleSBzzIVq9Z56hlgd",
      "include_colab_link": true
    },
    "kernelspec": {
      "name": "python3",
      "display_name": "Python 3"
    },
    "language_info": {
      "name": "python"
    }
  },
  "cells": [
    {
      "cell_type": "markdown",
      "metadata": {
        "id": "view-in-github",
        "colab_type": "text"
      },
      "source": [
        "<a href=\"https://colab.research.google.com/github/aso2101340/DeepLearning2022Late/blob/main/CNN%2BPlots_twolayer2022.ipynb\" target=\"_parent\"><img src=\"https://colab.research.google.com/assets/colab-badge.svg\" alt=\"Open In Colab\"/></a>"
      ]
    },
    {
      "cell_type": "markdown",
      "source": [
        "#CNNの練習（Keras Conv2D）\n",
        "convolutional Neural Network\n",
        "\n",
        "畳み込み層が1つの例"
      ],
      "metadata": {
        "id": "CSvh34paGvrU"
      }
    },
    {
      "cell_type": "markdown",
      "source": [
        "##ライブラリのimport"
      ],
      "metadata": {
        "id": "Tq2BBZx_IKi2"
      }
    },
    {
      "cell_type": "code",
      "execution_count": 1,
      "metadata": {
        "id": "ULfbsT-dGjQf"
      },
      "outputs": [],
      "source": [
        "#CNN node 1layer\n",
        "#Conv2Dを使ったCNNの例\n",
        "from keras.models import Sequential, Model\n",
        "from keras.layers import Conv2D  #畳み込み層のクラスモジュール\n",
        "#from keras.utils import np_utils"
      ]
    },
    {
      "cell_type": "markdown",
      "source": [
        "##SVG画像の表示用のライブラリのimport\n"
      ],
      "metadata": {
        "id": "oYsjKsFEJWHK"
      }
    },
    {
      "cell_type": "code",
      "source": [
        "from IPython.display import SVG\n",
        "from keras.utils.vis_utils import model_to_dot"
      ],
      "metadata": {
        "id": "uDT3pqwIJU8U"
      },
      "execution_count": 2,
      "outputs": []
    },
    {
      "cell_type": "markdown",
      "source": [
        "##CNN（畳み込みニューラルネットワーク）のモデルをConv2Dのライブラリを使って作成"
      ],
      "metadata": {
        "id": "eqDooynUJ68e"
      }
    },
    {
      "cell_type": "code",
      "source": [
        "model = Sequential()  #インスタンスを生成\n",
        "#CNN畳み込み層を1層追加する\n",
        "model.add(Conv2D(filters = 3,  #フィルターのニューロンを３パターン\n",
        "                 kernel_size = (3, 3),  #受容野の大きさ（幅３，縦３）\n",
        "                 input_shape = (6, 6, 1),  \n",
        "                 name = 'Conv2D_1'))"
      ],
      "metadata": {
        "id": "92Ju63ItJ5pM"
      },
      "execution_count": 3,
      "outputs": []
    },
    {
      "cell_type": "markdown",
      "source": [
        "##2つ目の畳み込み層を追加"
      ],
      "metadata": {
        "id": "uea5aSJZR4Gb"
      }
    },
    {
      "cell_type": "code",
      "source": [
        "model.add(Conv2D(filters = 2,\n",
        "                 kernel_size = (3, 3),\n",
        "                 name = 'Conv2D_2'))"
      ],
      "metadata": {
        "id": "0pNnFDeaR4bO"
      },
      "execution_count": 5,
      "outputs": []
    },
    {
      "cell_type": "markdown",
      "source": [
        "##SVG画像で作成したモデルの構成を表示\n",
        "CNN（畳み込み）で特徴を抜き出すだけのモデルの状態"
      ],
      "metadata": {
        "id": "IY2N1DbcMMSh"
      }
    },
    {
      "cell_type": "code",
      "source": [
        "SVG(model_to_dot(model, show_shapes = True).create(prog = 'dot', format = 'svg'))"
      ],
      "metadata": {
        "colab": {
          "base_uri": "https://localhost:8080/",
          "height": 415
        },
        "id": "pkFD8EV5MH3v",
        "outputId": "c9f0292c-41c3-4e69-cf65-701ef5c4e83f"
      },
      "execution_count": 6,
      "outputs": [
        {
          "output_type": "execute_result",
          "data": {
            "text/plain": [
              "<IPython.core.display.SVG object>"
            ],
            "image/svg+xml": "<svg height=\"295pt\" viewBox=\"0.00 0.00 296.00 221.00\" width=\"395pt\" xmlns=\"http://www.w3.org/2000/svg\" xmlns:xlink=\"http://www.w3.org/1999/xlink\">\n<g class=\"graph\" id=\"graph0\" transform=\"scale(1.3333 1.3333) rotate(0) translate(4 217)\">\n<title>G</title>\n<polygon fill=\"#ffffff\" points=\"-4,4 -4,-217 292,-217 292,4 -4,4\" stroke=\"transparent\"/>\n<!-- 140658095877456 -->\n<g class=\"node\" id=\"node1\">\n<title>140658095877456</title>\n<polygon fill=\"none\" points=\"0,-166.5 0,-212.5 288,-212.5 288,-166.5 0,-166.5\" stroke=\"#000000\"/>\n<text fill=\"#000000\" font-family=\"Times,serif\" font-size=\"14.00\" text-anchor=\"middle\" x=\"59.5\" y=\"-197.3\">Conv2D_1_input</text>\n<polyline fill=\"none\" points=\"0,-189.5 119,-189.5 \" stroke=\"#000000\"/>\n<text fill=\"#000000\" font-family=\"Times,serif\" font-size=\"14.00\" text-anchor=\"middle\" x=\"59.5\" y=\"-174.3\">InputLayer</text>\n<polyline fill=\"none\" points=\"119,-166.5 119,-212.5 \" stroke=\"#000000\"/>\n<text fill=\"#000000\" font-family=\"Times,serif\" font-size=\"14.00\" text-anchor=\"middle\" x=\"148\" y=\"-197.3\">input:</text>\n<polyline fill=\"none\" points=\"119,-189.5 177,-189.5 \" stroke=\"#000000\"/>\n<text fill=\"#000000\" font-family=\"Times,serif\" font-size=\"14.00\" text-anchor=\"middle\" x=\"148\" y=\"-174.3\">output:</text>\n<polyline fill=\"none\" points=\"177,-166.5 177,-212.5 \" stroke=\"#000000\"/>\n<text fill=\"#000000\" font-family=\"Times,serif\" font-size=\"14.00\" text-anchor=\"middle\" x=\"232.5\" y=\"-197.3\">[(None, 6, 6, 1)]</text>\n<polyline fill=\"none\" points=\"177,-189.5 288,-189.5 \" stroke=\"#000000\"/>\n<text fill=\"#000000\" font-family=\"Times,serif\" font-size=\"14.00\" text-anchor=\"middle\" x=\"232.5\" y=\"-174.3\">[(None, 6, 6, 1)]</text>\n</g>\n<!-- 140659961383504 -->\n<g class=\"node\" id=\"node2\">\n<title>140659961383504</title>\n<polygon fill=\"none\" points=\"23,-83.5 23,-129.5 265,-129.5 265,-83.5 23,-83.5\" stroke=\"#000000\"/>\n<text fill=\"#000000\" font-family=\"Times,serif\" font-size=\"14.00\" text-anchor=\"middle\" x=\"64\" y=\"-114.3\">Conv2D_1</text>\n<polyline fill=\"none\" points=\"23,-106.5 105,-106.5 \" stroke=\"#000000\"/>\n<text fill=\"#000000\" font-family=\"Times,serif\" font-size=\"14.00\" text-anchor=\"middle\" x=\"64\" y=\"-91.3\">Conv2D</text>\n<polyline fill=\"none\" points=\"105,-83.5 105,-129.5 \" stroke=\"#000000\"/>\n<text fill=\"#000000\" font-family=\"Times,serif\" font-size=\"14.00\" text-anchor=\"middle\" x=\"134\" y=\"-114.3\">input:</text>\n<polyline fill=\"none\" points=\"105,-106.5 163,-106.5 \" stroke=\"#000000\"/>\n<text fill=\"#000000\" font-family=\"Times,serif\" font-size=\"14.00\" text-anchor=\"middle\" x=\"134\" y=\"-91.3\">output:</text>\n<polyline fill=\"none\" points=\"163,-83.5 163,-129.5 \" stroke=\"#000000\"/>\n<text fill=\"#000000\" font-family=\"Times,serif\" font-size=\"14.00\" text-anchor=\"middle\" x=\"214\" y=\"-114.3\">(None, 6, 6, 1)</text>\n<polyline fill=\"none\" points=\"163,-106.5 265,-106.5 \" stroke=\"#000000\"/>\n<text fill=\"#000000\" font-family=\"Times,serif\" font-size=\"14.00\" text-anchor=\"middle\" x=\"214\" y=\"-91.3\">(None, 4, 4, 3)</text>\n</g>\n<!-- 140658095877456&#45;&gt;140659961383504 -->\n<g class=\"edge\" id=\"edge1\">\n<title>140658095877456-&gt;140659961383504</title>\n<path d=\"M144,-166.3799C144,-158.1745 144,-148.7679 144,-139.8786\" fill=\"none\" stroke=\"#000000\"/>\n<polygon fill=\"#000000\" points=\"147.5001,-139.784 144,-129.784 140.5001,-139.784 147.5001,-139.784\" stroke=\"#000000\"/>\n</g>\n<!-- 140658014275216 -->\n<g class=\"node\" id=\"node3\">\n<title>140658014275216</title>\n<polygon fill=\"none\" points=\"23,-.5 23,-46.5 265,-46.5 265,-.5 23,-.5\" stroke=\"#000000\"/>\n<text fill=\"#000000\" font-family=\"Times,serif\" font-size=\"14.00\" text-anchor=\"middle\" x=\"64\" y=\"-31.3\">Conv2D_2</text>\n<polyline fill=\"none\" points=\"23,-23.5 105,-23.5 \" stroke=\"#000000\"/>\n<text fill=\"#000000\" font-family=\"Times,serif\" font-size=\"14.00\" text-anchor=\"middle\" x=\"64\" y=\"-8.3\">Conv2D</text>\n<polyline fill=\"none\" points=\"105,-.5 105,-46.5 \" stroke=\"#000000\"/>\n<text fill=\"#000000\" font-family=\"Times,serif\" font-size=\"14.00\" text-anchor=\"middle\" x=\"134\" y=\"-31.3\">input:</text>\n<polyline fill=\"none\" points=\"105,-23.5 163,-23.5 \" stroke=\"#000000\"/>\n<text fill=\"#000000\" font-family=\"Times,serif\" font-size=\"14.00\" text-anchor=\"middle\" x=\"134\" y=\"-8.3\">output:</text>\n<polyline fill=\"none\" points=\"163,-.5 163,-46.5 \" stroke=\"#000000\"/>\n<text fill=\"#000000\" font-family=\"Times,serif\" font-size=\"14.00\" text-anchor=\"middle\" x=\"214\" y=\"-31.3\">(None, 4, 4, 3)</text>\n<polyline fill=\"none\" points=\"163,-23.5 265,-23.5 \" stroke=\"#000000\"/>\n<text fill=\"#000000\" font-family=\"Times,serif\" font-size=\"14.00\" text-anchor=\"middle\" x=\"214\" y=\"-8.3\">(None, 2, 2, 2)</text>\n</g>\n<!-- 140659961383504&#45;&gt;140658014275216 -->\n<g class=\"edge\" id=\"edge2\">\n<title>140659961383504-&gt;140658014275216</title>\n<path d=\"M144,-83.3799C144,-75.1745 144,-65.7679 144,-56.8786\" fill=\"none\" stroke=\"#000000\"/>\n<polygon fill=\"#000000\" points=\"147.5001,-56.784 144,-46.784 140.5001,-56.784 147.5001,-56.784\" stroke=\"#000000\"/>\n</g>\n</g>\n</svg>"
          },
          "metadata": {},
          "execution_count": 6
        }
      ]
    }
  ]
}