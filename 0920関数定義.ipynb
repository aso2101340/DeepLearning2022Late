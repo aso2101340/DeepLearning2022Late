{
  "nbformat": 4,
  "nbformat_minor": 0,
  "metadata": {
    "colab": {
      "provenance": [],
      "authorship_tag": "ABX9TyMdUOickoVg7TIm3DtjNhqc",
      "include_colab_link": true
    },
    "kernelspec": {
      "name": "python3",
      "display_name": "Python 3"
    },
    "language_info": {
      "name": "python"
    }
  },
  "cells": [
    {
      "cell_type": "markdown",
      "metadata": {
        "id": "view-in-github",
        "colab_type": "text"
      },
      "source": [
        "<a href=\"https://colab.research.google.com/github/aso2101340/DeepLearning2022Late/blob/main/0920%E9%96%A2%E6%95%B0%E5%AE%9A%E7%BE%A9.ipynb\" target=\"_parent\"><img src=\"https://colab.research.google.com/assets/colab-badge.svg\" alt=\"Open In Colab\"/></a>"
      ]
    },
    {
      "cell_type": "markdown",
      "source": [
        "#Python3で関数を定義する\n",
        "関数定義"
      ],
      "metadata": {
        "id": "5SKTJJZ1bxVR"
      }
    },
    {
      "cell_type": "code",
      "source": [
        "#helloという関数を定義する\n",
        "#\"hello, kansu!\"と画面表示する関数\n",
        "def hello():\n",
        "  print('hello, kansuu!') #インデントされている\n",
        "  #インデントされている命令文などは関数の範囲の中\n",
        "print('test message!') #インデントされていない\n",
        "#インデントされていない命令文などは関数の範囲の外 "
      ],
      "metadata": {
        "colab": {
          "base_uri": "https://localhost:8080/"
        },
        "id": "Kb5JJzeAbkdp",
        "outputId": "9a44c110-ba0d-457e-cf42-746044eb3fc9"
      },
      "execution_count": 3,
      "outputs": [
        {
          "output_type": "stream",
          "name": "stdout",
          "text": [
            "test message!\n"
          ]
        }
      ]
    },
    {
      "cell_type": "markdown",
      "source": [
        "#関数を実行する"
      ],
      "metadata": {
        "id": "mNrU_sGveGiF"
      }
    },
    {
      "cell_type": "code",
      "source": [
        "#作成した関数hello()をコールする\n",
        "hello()\n",
        "hello()"
      ],
      "metadata": {
        "colab": {
          "base_uri": "https://localhost:8080/"
        },
        "id": "gtgB9humdqGa",
        "outputId": "bbd2df6e-c561-45f1-d96f-9d4e68adac5f"
      },
      "execution_count": 5,
      "outputs": [
        {
          "output_type": "stream",
          "name": "stdout",
          "text": [
            "hello, kansuu!\n",
            "hello, kansuu!\n"
          ]
        }
      ]
    },
    {
      "cell_type": "markdown",
      "source": [],
      "metadata": {
        "id": "qf4LZfOze0ei"
      }
    },
    {
      "cell_type": "markdown",
      "source": [
        "##引数つきの関数を定義する"
      ],
      "metadata": {
        "id": "l5T6jTB4e0lf"
      }
    },
    {
      "cell_type": "code",
      "source": [
        "#引数つきの関数 hello()を定義\n",
        "def hello(who):\n",
        "  print('hello,' + who + '!')\n",
        "#ここが関数の終わり\n",
        "hello('python!')"
      ],
      "metadata": {
        "colab": {
          "base_uri": "https://localhost:8080/"
        },
        "id": "3L3izRo5ee2E",
        "outputId": "7ffcacc8-6011-4634-ca5e-1bde2c91ac80"
      },
      "execution_count": 6,
      "outputs": [
        {
          "output_type": "stream",
          "name": "stdout",
          "text": [
            "hello,python!!\n"
          ]
        }
      ]
    },
    {
      "cell_type": "markdown",
      "source": [
        "###複数の引数つきの関数を定義"
      ],
      "metadata": {
        "id": "TzX0H0jNgPsI"
      }
    },
    {
      "cell_type": "code",
      "source": [
        "def hello(who, aisatsu):\n",
        "  print('hello,' + who + 'さん' + aisatsu)\n",
        "#関数終わり\n",
        "hello('田中', 'おはよう')\n",
        "hello('鈴木', 'こんにちは')"
      ],
      "metadata": {
        "colab": {
          "base_uri": "https://localhost:8080/"
        },
        "id": "Ffg3oyUwfzvi",
        "outputId": "3258af1a-a3ec-4ae3-d3f5-87340bdbb07e"
      },
      "execution_count": 9,
      "outputs": [
        {
          "output_type": "stream",
          "name": "stdout",
          "text": [
            "hello,田中さんおはよう\n",
            "hello,鈴木さんこんにちは\n"
          ]
        }
      ]
    },
    {
      "cell_type": "markdown",
      "source": [
        "##関数の戻り値を定義する\n",
        "###戻り値１つの関数を定義"
      ],
      "metadata": {
        "id": "RMNH40lMh7Bf"
      }
    },
    {
      "cell_type": "code",
      "source": [
        "def helloBack(who, aisatsu):\n",
        "  return who + 'さん、' + aisatsu\n",
        "#関数終わり\n",
        "#戻り値を変数Xに代入して表示\n",
        "x = helloBack('佐藤', 'こんばんは')\n",
        "print(x)"
      ],
      "metadata": {
        "colab": {
          "base_uri": "https://localhost:8080/"
        },
        "id": "nQf9xT6zheH_",
        "outputId": "08455f6c-9dde-4291-e08c-55ca5a882069"
      },
      "execution_count": 10,
      "outputs": [
        {
          "output_type": "stream",
          "name": "stdout",
          "text": [
            "佐藤さん、こんばんは\n"
          ]
        }
      ]
    },
    {
      "cell_type": "markdown",
      "source": [
        "##複数の戻り値を返す関数を定義"
      ],
      "metadata": {
        "id": "nSuK7WwMjZN6"
      }
    },
    {
      "cell_type": "code",
      "source": [
        "def keisan(x, y):\n",
        "  #x, y, x+y この３つの値を返す\n",
        "  return x, y, x+y\n",
        "#関数終わり\n",
        "#関数eisanを実行して戻り値を受け取る\n",
        "e, f, g = keisan(3, 6) #戻り値が3, 6, 9になる\n",
        "print(e, f, g)"
      ],
      "metadata": {
        "colab": {
          "base_uri": "https://localhost:8080/"
        },
        "id": "iXSsEDl3jP7z",
        "outputId": "ec4eed2f-5b3a-4080-a999-f5c8cb86c148"
      },
      "execution_count": 12,
      "outputs": [
        {
          "output_type": "stream",
          "name": "stdout",
          "text": [
            "3 6 9\n"
          ]
        }
      ]
    },
    {
      "cell_type": "markdown",
      "source": [
        "#その他の文法\n",
        "##分岐(if文)"
      ],
      "metadata": {
        "id": "loVC_0OHlVxd"
      }
    },
    {
      "cell_type": "code",
      "source": [
        "#if文の範囲もインデントで表す\n",
        "#numの値を閾値で分岐する\n",
        "def over(num, thres):\n",
        "  if num > thres: #numが閾値より大きいとき\n",
        "    print(str(num) + 'は' + str(thres) + 'より大きい')\n",
        "  else:\n",
        "    print(str(num) + 'は' + str(thres) + '以下です')\n",
        "  #分岐の終わり\n",
        "#関数の終わり\n",
        "\n",
        "over(333, 100) \n",
        "over(-1, 10)"
      ],
      "metadata": {
        "colab": {
          "base_uri": "https://localhost:8080/"
        },
        "id": "RD744XmnlAOp",
        "outputId": "0d4b049c-86e9-4b6d-f143-fc093aabc680"
      },
      "execution_count": 15,
      "outputs": [
        {
          "output_type": "stream",
          "name": "stdout",
          "text": [
            "333は100より大きい\n",
            "-1は10以下です\n"
          ]
        }
      ]
    },
    {
      "cell_type": "code",
      "source": [
        "#リストに第2引数の値が含まれるか判定\n",
        "def include(list, keyword):\n",
        "  uniq = set(list) #リストを集合に変換\n",
        "  if keyword in uniq:\n",
        "    print(keyword + 'が含まれる')\n",
        "  else:\n",
        "    print(keyword + 'が含まれない')\n",
        "  #分岐の終わり\n",
        "#関数の終わり\n",
        "\n",
        "#リストを引き渡して作成した関数を実行する\n",
        "list_1 = ['アップル', 'ペン', 'ペン', 'パイナップル'] #第一引数に使うリスト\n",
        "include(list_1, 'パイナップル')\n",
        "include(list_1, 'バナナ')"
      ],
      "metadata": {
        "colab": {
          "base_uri": "https://localhost:8080/"
        },
        "id": "5pxdB9WPnu5V",
        "outputId": "ea8f055d-78b0-4045-985f-4c12ea58330a"
      },
      "execution_count": 17,
      "outputs": [
        {
          "output_type": "stream",
          "name": "stdout",
          "text": [
            "パイナップルが含まれる\n",
            "バナナが含まれない\n"
          ]
        }
      ]
    },
    {
      "cell_type": "markdown",
      "source": [
        "##繰り返し文 (while文)"
      ],
      "metadata": {
        "id": "X1Bi07h2wSkU"
      }
    },
    {
      "cell_type": "code",
      "source": [
        "#while文は条件がtrueの間繰り返す\n",
        "def count(max):\n",
        "  num = 0\n",
        "  while num < max: #numがmax未満の間、繰り返す\n",
        "    print(num)\n",
        "    num += 1\n",
        "  #while繰り返し終わり\n",
        "#関数終わり\n",
        "\n",
        "count(5) #作成した関数に引数を引き渡して実行"
      ],
      "metadata": {
        "colab": {
          "base_uri": "https://localhost:8080/"
        },
        "id": "D8t5-U5zvi5S",
        "outputId": "633fb5b7-ebe2-4c67-88d0-8fc5dd9e79cc"
      },
      "execution_count": 18,
      "outputs": [
        {
          "output_type": "stream",
          "name": "stdout",
          "text": [
            "0\n",
            "1\n",
            "2\n",
            "3\n",
            "4\n"
          ]
        }
      ]
    },
    {
      "cell_type": "markdown",
      "source": [
        "##繰り返し文 (for文)\n",
        "\n",
        "###変数βの集合から１つずつ取り出して変数αとして使う\n",
        "for 変数α in range(変数β):"
      ],
      "metadata": {
        "id": "NhHHgJi_yg2I"
      }
    },
    {
      "cell_type": "code",
      "source": [
        "#集合（コレクション）の中から取り出して繰り返し\n",
        "def every(array):\n",
        "  for x in array: #arrayの中から１つずつデータを取り出しxに代入\n",
        "    print(x)\n",
        "  #for文終わり\n",
        "#関数終わり\n",
        "\n",
        "list = [1, 2, 3]\n",
        "every(list)\n",
        "tuple = (4, 5, 6)\n",
        "every(tuple)\n",
        "#辞書型もコレクション\n",
        "dict = {'a': 7, 'b': 8, 'c': 9}\n",
        "every(dict) #キーワードの一覧表示\n",
        "values = dict.values() #値のリストを取得\n",
        "every(values) #値の一覧を表示\n",
        "#文字列も文字配列としてコレクション扱いが出来る\n",
        "every('dog') #ｄｏｇとして表示"
      ],
      "metadata": {
        "colab": {
          "base_uri": "https://localhost:8080/"
        },
        "id": "i299K01qxzDh",
        "outputId": "84a28572-4129-4c36-8ffb-b3f9b44884fc"
      },
      "execution_count": 22,
      "outputs": [
        {
          "output_type": "stream",
          "name": "stdout",
          "text": [
            "1\n",
            "2\n",
            "3\n",
            "4\n",
            "5\n",
            "6\n",
            "a\n",
            "b\n",
            "c\n",
            "7\n",
            "8\n",
            "9\n",
            "d\n",
            "o\n",
            "g\n"
          ]
        }
      ]
    },
    {
      "cell_type": "code",
      "source": [
        "#カウンター変数で繰り返す\n",
        "#for n in range(数値)\n",
        "\n",
        "def count(num):\n",
        "  for i in range(num):\n",
        "    print(i)\n",
        "  #繰り返しの終わり\n",
        "#関数の終わり\n",
        "\n",
        "count(3) # 3 = 0, 1, 2 で繰り返す"
      ],
      "metadata": {
        "colab": {
          "base_uri": "https://localhost:8080/"
        },
        "id": "hzpFbfhw0aAw",
        "outputId": "e4a9f2f0-0f07-480f-cf46-54ce7899c295"
      },
      "execution_count": 23,
      "outputs": [
        {
          "output_type": "stream",
          "name": "stdout",
          "text": [
            "0\n",
            "1\n",
            "2\n"
          ]
        }
      ]
    },
    {
      "cell_type": "markdown",
      "source": [
        "##繰り返しを中断したいときは、break命令"
      ],
      "metadata": {
        "id": "IhiQ3P_r4keY"
      }
    },
    {
      "cell_type": "code",
      "source": [
        "def stop(array):\n",
        "  for i in array:\n",
        "    if i >= 4:\n",
        "      break #ループを中断\n",
        "    print(i)\n",
        "    #分岐終わり\n",
        "  #ループ終わり\n",
        "#関数終わり\n",
        "\n",
        "list = [1, 2, 3, 4, 5, 1, 2, 3, 4, 5]\n",
        "stop(list)"
      ],
      "metadata": {
        "colab": {
          "base_uri": "https://localhost:8080/"
        },
        "id": "U3H-aHAL4i4E",
        "outputId": "c9d72fa6-2788-4b28-d3a7-61e4fd5960d0"
      },
      "execution_count": 25,
      "outputs": [
        {
          "output_type": "stream",
          "name": "stdout",
          "text": [
            "1\n",
            "2\n",
            "3\n"
          ]
        }
      ]
    },
    {
      "cell_type": "markdown",
      "source": [
        "##繰り返しをスキップしたいときは、continue命令"
      ],
      "metadata": {
        "id": "ugZUP8TX6VYm"
      }
    },
    {
      "cell_type": "code",
      "source": [
        "def skip(array):\n",
        "  for i in array:\n",
        "    if i >= 4:\n",
        "      continue #以降のループ処理をスキップする\n",
        "    #分岐終わり\n",
        "    print(i)\n",
        "  #繰り返し終わり\n",
        "#関数終わり\n",
        "list = [1, 2, 3, 4, 5, 1, 2, 3, 4, 5]\n",
        "skip(list)"
      ],
      "metadata": {
        "colab": {
          "base_uri": "https://localhost:8080/"
        },
        "id": "Aijc2uQ75f2O",
        "outputId": "fb2b9fe3-2f65-4263-94f1-d735c1ef1f92"
      },
      "execution_count": 26,
      "outputs": [
        {
          "output_type": "stream",
          "name": "stdout",
          "text": [
            "1\n",
            "2\n",
            "3\n",
            "1\n",
            "2\n",
            "3\n"
          ]
        }
      ]
    },
    {
      "cell_type": "code",
      "source": [],
      "metadata": {
        "id": "5Tv7C6d27nVH"
      },
      "execution_count": null,
      "outputs": []
    }
  ]
}