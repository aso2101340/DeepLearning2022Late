{
  "nbformat": 4,
  "nbformat_minor": 0,
  "metadata": {
    "colab": {
      "provenance": [],
      "authorship_tag": "ABX9TyO9EzWTIKlp+Ps9yQj6HSqH",
      "include_colab_link": true
    },
    "kernelspec": {
      "name": "python3",
      "display_name": "Python 3"
    },
    "language_info": {
      "name": "python"
    }
  },
  "cells": [
    {
      "cell_type": "markdown",
      "metadata": {
        "id": "view-in-github",
        "colab_type": "text"
      },
      "source": [
        "<a href=\"https://colab.research.google.com/github/aso2101340/DeepLearning2022Late/blob/main/%E3%83%A2%E3%82%B8%E3%83%A5%E3%83%BC%E3%83%AB%E3%81%A8%E3%83%A9%E3%82%A4%E3%83%96%E3%83%A9%E3%83%AA%E3%81%AE%E4%BD%BF%E7%94%A8.ipynb\" target=\"_parent\"><img src=\"https://colab.research.google.com/assets/colab-badge.svg\" alt=\"Open In Colab\"/></a>"
      ]
    },
    {
      "cell_type": "markdown",
      "source": [
        "##モジュールを使う\n",
        "###import文でモジュールを読み込んで使う\n",
        "例)math"
      ],
      "metadata": {
        "id": "zFpJzinI9ROJ"
      }
    },
    {
      "cell_type": "code",
      "source": [
        "#mathモジュールを読み込む\n",
        "import math\n",
        "print(math.pi) #msthの中に定義してある円周率を表示\n",
        "print(math.pow(5, 2)) #5の2乗\n",
        "print(math.sqrt(9)) #9の平方根"
      ],
      "metadata": {
        "colab": {
          "base_uri": "https://localhost:8080/"
        },
        "id": "hXJJ9SBM9iIq",
        "outputId": "5161f2b6-1f3d-4377-a73f-7c0d9a67569c"
      },
      "execution_count": 1,
      "outputs": [
        {
          "output_type": "stream",
          "name": "stdout",
          "text": [
            "3.141592653589793\n",
            "25.0\n",
            "3.0\n"
          ]
        }
      ]
    },
    {
      "cell_type": "markdown",
      "source": [
        "##Numpy―数値計算用の便利なライブラリ"
      ],
      "metadata": {
        "id": "OfJhJcan_Twb"
      }
    },
    {
      "cell_type": "code",
      "source": [
        "#numpyをimport\n",
        "import numpy as np"
      ],
      "metadata": {
        "id": "jkLg2vY292Hn"
      },
      "execution_count": 2,
      "outputs": []
    },
    {
      "cell_type": "markdown",
      "source": [
        "### numpy配列(ndarray)を作る"
      ],
      "metadata": {
        "id": "p-uBDaesoeAe"
      }
    },
    {
      "cell_type": "code",
      "source": [
        "#リストを引き渡してndarrayを作る\n",
        "a = np.array([5,7,3,1,4,3])\n",
        "print(a)"
      ],
      "metadata": {
        "colab": {
          "base_uri": "https://localhost:8080/"
        },
        "id": "sUaOqrwsocIT",
        "outputId": "e89724b9-7960-4f36-ec51-477e3b26b01d"
      },
      "execution_count": 3,
      "outputs": [
        {
          "output_type": "stream",
          "name": "stdout",
          "text": [
            "[5 7 3 1 4 3]\n"
          ]
        }
      ]
    },
    {
      "cell_type": "markdown",
      "source": [
        "##Numpyで配列の操作をしてみる\n",
        "###配列を構成しなおす"
      ],
      "metadata": {
        "id": "El5DYuOKqBnQ"
      }
    },
    {
      "cell_type": "code",
      "source": [
        "#現在、aは一1行一次元配列\n",
        "print(a)\n",
        "#aを3行2列の2次元配列に構成する\n",
        "b = a.reshape([3,2])  #新しい配列の構成を引数で指定する\n",
        "print(b)"
      ],
      "metadata": {
        "colab": {
          "base_uri": "https://localhost:8080/"
        },
        "id": "s_2Mvp69p1KH",
        "outputId": "370982bb-1524-428c-e6a8-4f9bb89f88fc"
      },
      "execution_count": 4,
      "outputs": [
        {
          "output_type": "stream",
          "name": "stdout",
          "text": [
            "[5 7 3 1 4 3]\n",
            "[[5 7]\n",
            " [3 1]\n",
            " [4 3]]\n"
          ]
        }
      ]
    },
    {
      "cell_type": "markdown",
      "source": [
        "###Numpy配列の中身を初期化して作る"
      ],
      "metadata": {
        "id": "ROCPpE4ZsBQp"
      }
    },
    {
      "cell_type": "code",
      "source": [
        "#3行4列の0が入った2次元配列を作る\n",
        "c = np.zeros((3,4))\n",
        "print(c)\n",
        "#ランダムな値が入った配列を作る\n",
        "np.random.seed(0)\n",
        "r = np.random.rand(3,4)\n",
        "print(r)"
      ],
      "metadata": {
        "colab": {
          "base_uri": "https://localhost:8080/"
        },
        "id": "iJ3S49PSrCv7",
        "outputId": "b7f2e2f5-ec35-4ecd-b60f-162e815d99ff"
      },
      "execution_count": 5,
      "outputs": [
        {
          "output_type": "stream",
          "name": "stdout",
          "text": [
            "[[0. 0. 0. 0.]\n",
            " [0. 0. 0. 0.]\n",
            " [0. 0. 0. 0.]]\n",
            "[[0.5488135  0.71518937 0.60276338 0.54488318]\n",
            " [0.4236548  0.64589411 0.43758721 0.891773  ]\n",
            " [0.96366276 0.38344152 0.79172504 0.52889492]]\n"
          ]
        }
      ]
    },
    {
      "cell_type": "markdown",
      "source": [
        "##Numpyのスライスのやりかた\n",
        "###基本\n",
        "スライスの指定の仕方\n",
        "[start : stop : step]\n",
        "で指定する"
      ],
      "metadata": {
        "id": "G9i-ULCZujmK"
      }
    },
    {
      "cell_type": "code",
      "source": [
        "#リストのスライス\n",
        "l = list(range(10))  #0～9までの10個の要素のリスト\n",
        "print(l)\n",
        "print(l[4:8])  #[4:8]でスライス\n",
        "print(l[: :-1])  #stepを-1でスライス"
      ],
      "metadata": {
        "colab": {
          "base_uri": "https://localhost:8080/"
        },
        "id": "nfY3LX5fsp1J",
        "outputId": "4a43f78f-4d05-4d08-e50a-42e4ba956260"
      },
      "execution_count": 6,
      "outputs": [
        {
          "output_type": "stream",
          "name": "stdout",
          "text": [
            "[0, 1, 2, 3, 4, 5, 6, 7, 8, 9]\n",
            "[4, 5, 6, 7]\n",
            "[9, 8, 7, 6, 5, 4, 3, 2, 1, 0]\n"
          ]
        }
      ]
    },
    {
      "cell_type": "markdown",
      "source": [
        "### 1次元のNumpy配列(ndarray)におけるスライス"
      ],
      "metadata": {
        "id": "J5LJ7AeAw5pj"
      }
    },
    {
      "cell_type": "code",
      "source": [
        "#範囲を指定してndarrayを作る\n",
        "a = np.arange(10)  # 0～9の10個の要素のndarray\n",
        "print(a)\n",
        "print(a[2:8])\n",
        "print(a[2:8:2])  #step2で2個飛ばし\n",
        "print(a[2:8:3])"
      ],
      "metadata": {
        "colab": {
          "base_uri": "https://localhost:8080/"
        },
        "id": "SFPyqjztvZa8",
        "outputId": "ff98e55e-155b-4c7f-ff97-7ffde9d83da7"
      },
      "execution_count": 7,
      "outputs": [
        {
          "output_type": "stream",
          "name": "stdout",
          "text": [
            "[0 1 2 3 4 5 6 7 8 9]\n",
            "[2 3 4 5 6 7]\n",
            "[2 4 6]\n",
            "[2 5]\n"
          ]
        }
      ]
    },
    {
      "cell_type": "markdown",
      "source": [
        "### 1次元配列のndarrayのスライスに代入"
      ],
      "metadata": {
        "id": "WpYMvHVjzebW"
      }
    },
    {
      "cell_type": "code",
      "source": [
        "print(a)\n",
        "a[3:6] = 100 #指定した範囲に特定の値を代入\n",
        "print(a)\n",
        "a[3:6] = [100, 200, 300] #指定した範囲にリストの値を代入\n",
        "print(a)\n",
        "#a[3:6] = [100, 200, 300, 400] ← 3つの範囲を4つの要素で上書き×\n",
        "a = np.arange(10)\n",
        "print(a)\n",
        "a[2:8:2] = 100 #start2stop8にstep2で上書き\n",
        "print(a)"
      ],
      "metadata": {
        "colab": {
          "base_uri": "https://localhost:8080/"
        },
        "id": "75NM-6WMxpxz",
        "outputId": "5ada0501-5159-42e4-a94e-5aa7ae75fa68"
      },
      "execution_count": 8,
      "outputs": [
        {
          "output_type": "stream",
          "name": "stdout",
          "text": [
            "[0 1 2 3 4 5 6 7 8 9]\n",
            "[  0   1   2 100 100 100   6   7   8   9]\n",
            "[  0   1   2 100 200 300   6   7   8   9]\n",
            "[0 1 2 3 4 5 6 7 8 9]\n",
            "[  0   1 100   3 100   5 100   7   8   9]\n"
          ]
        }
      ]
    },
    {
      "cell_type": "markdown",
      "source": [
        "###多次元配列のndarrayのスライス"
      ],
      "metadata": {
        "id": "uCPjAXQT2r6o"
      }
    },
    {
      "cell_type": "code",
      "source": [
        "#3行4列の2次元配列を作る\n",
        "a = np.arange(12).reshape((3,4))\n",
        "print(a)\n",
        "#2行目から終わりまでの行 = [1:]\n",
        "#2列目から3列目手前までの列 =[1:3]\n",
        "print(a[1:, 1:3])\n",
        "b = np.arange(20).reshape(5,4)\n",
        "print(b)\n",
        "#9,10 13,14 17,18の3行2列だけ抜き出す\n",
        "print(b[2:,1:3])\n",
        "c = b[2:, 1:3]\n",
        "print(c.shape)  #スライスした部分が何行何列なのか"
      ],
      "metadata": {
        "colab": {
          "base_uri": "https://localhost:8080/"
        },
        "id": "AtVb8B1KzyOH",
        "outputId": "fca82349-bc55-4c38-e85b-e9605bfa12a8"
      },
      "execution_count": 10,
      "outputs": [
        {
          "output_type": "stream",
          "name": "stdout",
          "text": [
            "[[ 0  1  2  3]\n",
            " [ 4  5  6  7]\n",
            " [ 8  9 10 11]]\n",
            "[[ 5  6]\n",
            " [ 9 10]]\n",
            "[[ 0  1  2  3]\n",
            " [ 4  5  6  7]\n",
            " [ 8  9 10 11]\n",
            " [12 13 14 15]\n",
            " [16 17 18 19]]\n",
            "[[ 9 10]\n",
            " [13 14]\n",
            " [17 18]]\n"
          ]
        }
      ]
    },
    {
      "cell_type": "markdown",
      "source": [
        "###多次元のndarrayへのスライスでの代入"
      ],
      "metadata": {
        "id": "0uGUnfc8ehad"
      }
    },
    {
      "cell_type": "code",
      "source": [
        "#要素数12の3行4列の2次元配列を作る\n",
        "a = np.arange(12).reshape(3,4)\n",
        "print(a)\n",
        "#5,6 9,10の部分をスライス\n",
        "print(a[1:, 1:3])\n",
        "a[1:, 1:3] = 100\n",
        "print(a)\n",
        "a = np.arange(12).reshape(3,4)\n",
        "#多次元での上書きにリストを使う\n",
        "a[1:, 1:3] = [100, 200]\n",
        "print(a)\n",
        "#多次元の上書きに2次元のリストを使う\n",
        "a[1:, 1:3] = [[100, 200], [300, 400]]\n",
        "print(a)"
      ],
      "metadata": {
        "id": "t0tZxuAG3D-i",
        "colab": {
          "base_uri": "https://localhost:8080/"
        },
        "outputId": "9622bb31-af66-4259-9900-db07e159de56"
      },
      "execution_count": 16,
      "outputs": [
        {
          "output_type": "stream",
          "name": "stdout",
          "text": [
            "[[ 0  1  2  3]\n",
            " [ 4  5  6  7]\n",
            " [ 8  9 10 11]]\n",
            "[[ 5  6]\n",
            " [ 9 10]]\n",
            "[[  0   1   2   3]\n",
            " [  4 100 100   7]\n",
            " [  8 100 100  11]]\n",
            "[[  0   1   2   3]\n",
            " [  4 100 200   7]\n",
            " [  8 100 200  11]]\n",
            "[[  0   1   2   3]\n",
            " [  4 100 200   7]\n",
            " [  8 300 400  11]]\n"
          ]
        }
      ]
    },
    {
      "cell_type": "markdown",
      "source": [
        "###多次元のndarrayへのstepを使ったスライスでの代入"
      ],
      "metadata": {
        "id": "sKVahS-KiT6Y"
      }
    },
    {
      "cell_type": "code",
      "source": [
        "#要素数12 3行4列のndarrayを作ってaに代入\n",
        "a = np.arange(12).reshape((3,4))\n",
        "print(a)\n",
        "#スライスにstepを使ってみる\n",
        "print(a[1:, ::2])\n",
        "#0,3,4,7を抜き出す\n",
        "print(a[:2, ::3])\n",
        "a[1:, ::2] = 100 #4, 6, 8, 10だったところを100で上書き\n",
        "print(a)\n",
        "#4, 6, 8, 10だったところをリストで上書き\n",
        "a[1:, ::2] = [100, 200]\n",
        "print(a)\n",
        "#4、6、8、10だったところを多次元のリストで上書き\n",
        "a[1:, ::2] = [[100, 200], [300, 400]]\n",
        "print(a)"
      ],
      "metadata": {
        "colab": {
          "base_uri": "https://localhost:8080/"
        },
        "id": "eHW9QtUMfGq2",
        "outputId": "ace4e14f-47b5-4ddf-d9c2-fea2ada6f121"
      },
      "execution_count": 21,
      "outputs": [
        {
          "output_type": "stream",
          "name": "stdout",
          "text": [
            "[[ 0  1  2  3]\n",
            " [ 4  5  6  7]\n",
            " [ 8  9 10 11]]\n",
            "[[ 4  6]\n",
            " [ 8 10]]\n",
            "[[0 3]\n",
            " [4 7]]\n",
            "[[  0   1   2   3]\n",
            " [100   5 100   7]\n",
            " [100   9 100  11]]\n",
            "[[  0   1   2   3]\n",
            " [100   5 200   7]\n",
            " [100   9 200  11]]\n",
            "[[  0   1   2   3]\n",
            " [100   5 200   7]\n",
            " [300   9 400  11]]\n"
          ]
        }
      ]
    },
    {
      "cell_type": "code",
      "source": [],
      "metadata": {
        "id": "wu7E0Ebdi-30"
      },
      "execution_count": null,
      "outputs": []
    }
  ]
}