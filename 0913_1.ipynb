{
  "nbformat": 4,
  "nbformat_minor": 0,
  "metadata": {
    "colab": {
      "provenance": [],
      "authorship_tag": "ABX9TyPN/BXGSs5cv83GD6rAAitK",
      "include_colab_link": true
    },
    "kernelspec": {
      "name": "python3",
      "display_name": "Python 3"
    },
    "language_info": {
      "name": "python"
    }
  },
  "cells": [
    {
      "cell_type": "markdown",
      "metadata": {
        "id": "view-in-github",
        "colab_type": "text"
      },
      "source": [
        "<a href=\"https://colab.research.google.com/github/aso2101340/DeepLearning2022Late/blob/main/0913_1.ipynb\" target=\"_parent\"><img src=\"https://colab.research.google.com/assets/colab-badge.svg\" alt=\"Open In Colab\"/></a>"
      ]
    },
    {
      "cell_type": "markdown",
      "source": [
        "#リスト型とタプル型\n",
        "##リストとタプル"
      ],
      "metadata": {
        "id": "MNMm8swtVHot"
      }
    },
    {
      "cell_type": "code",
      "execution_count": 1,
      "metadata": {
        "colab": {
          "base_uri": "https://localhost:8080/"
        },
        "id": "rHLDEx0MULSJ",
        "outputId": "1ac2e5cc-32d9-4a18-de8f-03ca369500ef"
      },
      "outputs": [
        {
          "output_type": "stream",
          "name": "stdout",
          "text": [
            "['アップル', 'ペン', 'ペン', 'パイナップル']\n",
            "ペンペン\n"
          ]
        }
      ],
      "source": [
        "#リスト\n",
        "list = ['アップル', 'ペン', 'ペン', 'パイナップル']\n",
        "print(list)\n",
        "print(list[1] + list[2])"
      ]
    },
    {
      "cell_type": "code",
      "source": [
        "#タプル\n",
        "tuple = ('アップル', 'ペン', 'ペン', 'パイナップル')\n",
        "print(tuple)\n",
        "print(tuple[1] + tuple[2])\n"
      ],
      "metadata": {
        "colab": {
          "base_uri": "https://localhost:8080/"
        },
        "id": "Z2mySDVfU77T",
        "outputId": "26c3d7ce-58ad-46e9-f6f4-b1fc3c5ac0e7"
      },
      "execution_count": 2,
      "outputs": [
        {
          "output_type": "stream",
          "name": "stdout",
          "text": [
            "('アップル', 'ペン', 'ペン', 'パイナップル')\n",
            "ペンペン\n"
          ]
        }
      ]
    },
    {
      "cell_type": "markdown",
      "source": [
        "###構成を変更できるのはリスト\n",
        "###構成を変更できない(固定)はタプル"
      ],
      "metadata": {
        "id": "S5NigXdnXK_a"
      }
    },
    {
      "cell_type": "code",
      "source": [
        "#リストの構成変更\n",
        "print(list)\n",
        "list.append(100) #文字列データのリストにあえて数値を追加\n",
        "print(list)\n",
        "del list[2] #リストの3番目を削除\n",
        "print(list)\n",
        "list[3] = 'ペン' #数値100を'ペン'に更新\n",
        "print(list)\n",
        "list.insert(2, 'ペン') #２番目の位置に'ペン'を挿入\n",
        "print(list)"
      ],
      "metadata": {
        "colab": {
          "base_uri": "https://localhost:8080/"
        },
        "id": "-k9vD1x3W2il",
        "outputId": "dca8724a-af0e-479e-aaf9-20061b752485"
      },
      "execution_count": 3,
      "outputs": [
        {
          "output_type": "stream",
          "name": "stdout",
          "text": [
            "['アップル', 'ペン', 'ペン', 'パイナップル']\n",
            "['アップル', 'ペン', 'ペン', 'パイナップル', 100]\n",
            "['アップル', 'ペン', 'パイナップル', 100]\n",
            "['アップル', 'ペン', 'パイナップル', 'ペン']\n",
            "['アップル', 'ペン', 'ペン', 'パイナップル', 'ペン']\n"
          ]
        }
      ]
    },
    {
      "cell_type": "markdown",
      "source": [
        "###リストやタプルの長さの取得"
      ],
      "metadata": {
        "id": "z8iDOLNnbPwm"
      }
    },
    {
      "cell_type": "code",
      "source": [
        "print(list)\n",
        "print(len(list))"
      ],
      "metadata": {
        "colab": {
          "base_uri": "https://localhost:8080/"
        },
        "id": "gUwe50KOXbf7",
        "outputId": "2efe16be-b990-461d-8889-721cd80539ea"
      },
      "execution_count": 4,
      "outputs": [
        {
          "output_type": "stream",
          "name": "stdout",
          "text": [
            "['アップル', 'ペン', 'ペン', 'パイナップル', 'ペン']\n",
            "5\n"
          ]
        }
      ]
    },
    {
      "cell_type": "markdown",
      "source": [
        "##スライス\n",
        "###データを抽出する(データを一部分とりだす)"
      ],
      "metadata": {
        "id": "yBBQWYpAcAwO"
      }
    },
    {
      "cell_type": "code",
      "source": [
        "print(list)\n",
        "print(list[1]) #何番目の要素の指定の仕方と同じ考え方\n",
        "print(list[1:3]) #１番目から３番目までの範囲を指定して抽出 = スライス\n",
        "print(list[1:]) #１番目から最後まで抽出（スライス）"
      ],
      "metadata": {
        "colab": {
          "base_uri": "https://localhost:8080/"
        },
        "id": "O2zjtRgZbry_",
        "outputId": "6164d22d-119f-47d3-eb2a-150cd6539d1c"
      },
      "execution_count": 6,
      "outputs": [
        {
          "output_type": "stream",
          "name": "stdout",
          "text": [
            "['アップル', 'ペン', 'ペン', 'パイナップル', 'ペン']\n",
            "ペン\n",
            "['ペン', 'ペン']\n",
            "['ペン', 'ペン', 'パイナップル', 'ペン']\n"
          ]
        }
      ]
    },
    {
      "cell_type": "markdown",
      "source": [
        "#SET型（集合型）\n",
        "集合型SETは、順番を持たない。重複したデータも持たない"
      ],
      "metadata": {
        "id": "7r6iVi1Aesyr"
      }
    },
    {
      "cell_type": "code",
      "source": [
        "#uniqという名前のSET型変数を作る\n",
        "uniq = set(['アップル', 'ペン', 'ペン', 'パイナップル'])\n",
        "print(uniq) #リストの時点では'ペン'が重複できていたが、SET型になって重複が消える"
      ],
      "metadata": {
        "colab": {
          "base_uri": "https://localhost:8080/"
        },
        "id": "_sCgUtazc9t-",
        "outputId": "74889748-4611-4dfb-c50e-19fc560194a9"
      },
      "execution_count": 7,
      "outputs": [
        {
          "output_type": "stream",
          "name": "stdout",
          "text": [
            "{'パイナップル', 'ペン', 'アップル'}\n"
          ]
        }
      ]
    },
    {
      "cell_type": "markdown",
      "source": [
        "##集合型の追加変更削除"
      ],
      "metadata": {
        "id": "3O4TfsNzg5ip"
      }
    },
    {
      "cell_type": "code",
      "source": [
        "print(uniq)\n",
        "uniq.add('バナナ') #追加\n",
        "uniq.remove('ペン') #削除\n",
        "print(uniq)"
      ],
      "metadata": {
        "colab": {
          "base_uri": "https://localhost:8080/"
        },
        "id": "SLXNAF4Agerv",
        "outputId": "2dc4b495-1de1-42f4-b614-744cc4372bcf"
      },
      "execution_count": 9,
      "outputs": [
        {
          "output_type": "stream",
          "name": "stdout",
          "text": [
            "{'パイナップル', 'ペン', 'アップル'}\n",
            "{'パイナップル', 'バナナ', 'アップル'}\n"
          ]
        }
      ]
    },
    {
      "cell_type": "markdown",
      "source": [
        "####集合演算\n",
        "包括、積、和、差分"
      ],
      "metadata": {
        "id": "sypIl_JTiRNB"
      }
    },
    {
      "cell_type": "code",
      "source": [
        "uniq = set(['アップル', 'ペン', 'ペン', 'パイナップル'])\n",
        "a = set(['アップル', 'ペン'])\n",
        "b = set(['ペン', 'パイナップル'])\n",
        "print(uniq)\n",
        "print(a)\n",
        "print(b)\n",
        "#集合aは集合uniqのsubset(部分集合)である ＝ 包括関係\n",
        "a.issubset(uniq)\n",
        "#データ'ペン'は集合aの中にある\n",
        "'ペン' in a"
      ],
      "metadata": {
        "colab": {
          "base_uri": "https://localhost:8080/"
        },
        "id": "o3A4L4LQhG9h",
        "outputId": "7d59fc67-f025-44b0-85ad-a07b9f972a56"
      },
      "execution_count": 13,
      "outputs": [
        {
          "output_type": "stream",
          "name": "stdout",
          "text": [
            "{'パイナップル', 'ペン', 'アップル'}\n",
            "{'ペン', 'アップル'}\n",
            "{'パイナップル', 'ペン'}\n"
          ]
        },
        {
          "output_type": "execute_result",
          "data": {
            "text/plain": [
              "True"
            ]
          },
          "metadata": {},
          "execution_count": 13
        }
      ]
    },
    {
      "cell_type": "code",
      "source": [
        "#ある集合と別の集合の共通部分の要素(intersection)\n",
        "#集合aと集合bの共通集合\n",
        "print(a)\n",
        "print(b)\n",
        "print(a.intersection(b)) # = 積\n",
        "#集合aと集合bの結合：和集合\n",
        "print(a.union(b)) #集合aと集合bの集まり\n",
        "#集合aと集合bの差集合（aのみに含まれる集合）\n",
        "a.difference(b) #aからbを取り除いた残り（差分：difference）"
      ],
      "metadata": {
        "colab": {
          "base_uri": "https://localhost:8080/"
        },
        "id": "xqJh3Zf_jKSw",
        "outputId": "d763f1ca-e5ed-4046-90fb-513258eb8c1b"
      },
      "execution_count": 16,
      "outputs": [
        {
          "output_type": "stream",
          "name": "stdout",
          "text": [
            "{'ペン', 'アップル'}\n",
            "{'パイナップル', 'ペン'}\n",
            "{'ペン'}\n",
            "{'パイナップル', 'ペン', 'アップル'}\n"
          ]
        },
        {
          "output_type": "execute_result",
          "data": {
            "text/plain": [
              "{'アップル'}"
            ]
          },
          "metadata": {},
          "execution_count": 16
        }
      ]
    },
    {
      "cell_type": "code",
      "source": [],
      "metadata": {
        "id": "yAw3SKYsqZ8v"
      },
      "execution_count": null,
      "outputs": []
    }
  ]
}