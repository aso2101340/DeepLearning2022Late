{
  "nbformat": 4,
  "nbformat_minor": 0,
  "metadata": {
    "colab": {
      "provenance": [],
      "authorship_tag": "ABX9TyMkbqy6S8IzV1PnH/KraKMi",
      "include_colab_link": true
    },
    "kernelspec": {
      "name": "python3",
      "display_name": "Python 3"
    },
    "language_info": {
      "name": "python"
    },
    "accelerator": "GPU",
    "gpuClass": "standard"
  },
  "cells": [
    {
      "cell_type": "markdown",
      "metadata": {
        "id": "view-in-github",
        "colab_type": "text"
      },
      "source": [
        "<a href=\"https://colab.research.google.com/github/aso2101340/DeepLearning2022Late/blob/main/Selenium%E3%81%A7%E7%94%BB%E5%83%8F%E5%8F%8E%E9%9B%86.ipynb\" target=\"_parent\"><img src=\"https://colab.research.google.com/assets/colab-badge.svg\" alt=\"Open In Colab\"/></a>"
      ]
    },
    {
      "cell_type": "markdown",
      "source": [
        "#Seleniumを使って自動で画像検索し、結果を収集する"
      ],
      "metadata": {
        "id": "Sa4IH1uV2LoH"
      }
    },
    {
      "cell_type": "markdown",
      "source": [
        "##必要なアプリのインストール\n",
        "###Seleniumのインストール(バージョンを指定)"
      ],
      "metadata": {
        "id": "3R0XVn9M2fHN"
      }
    },
    {
      "cell_type": "code",
      "source": [
        "!pip install selenium==4.1.0"
      ],
      "metadata": {
        "colab": {
          "base_uri": "https://localhost:8080/"
        },
        "id": "OfJtmwsI2Vkc",
        "outputId": "d3955ced-83e3-4c2b-9a4c-dd8571b14fa7"
      },
      "execution_count": 1,
      "outputs": [
        {
          "output_type": "stream",
          "name": "stdout",
          "text": [
            "Looking in indexes: https://pypi.org/simple, https://us-python.pkg.dev/colab-wheels/public/simple/\n",
            "Collecting selenium==4.1.0\n",
            "  Downloading selenium-4.1.0-py3-none-any.whl (958 kB)\n",
            "\u001b[2K     \u001b[90m━━━━━━━━━━━━━━━━━━━━━━━━━━━━━━━━━━━━━━\u001b[0m \u001b[32m958.8/958.8 KB\u001b[0m \u001b[31m13.0 MB/s\u001b[0m eta \u001b[36m0:00:00\u001b[0m\n",
            "\u001b[?25hCollecting trio-websocket~=0.9\n",
            "  Downloading trio_websocket-0.9.2-py3-none-any.whl (16 kB)\n",
            "Collecting urllib3[secure]~=1.26\n",
            "  Downloading urllib3-1.26.14-py2.py3-none-any.whl (140 kB)\n",
            "\u001b[2K     \u001b[90m━━━━━━━━━━━━━━━━━━━━━━━━━━━━━━━━━━━━━━\u001b[0m \u001b[32m140.6/140.6 KB\u001b[0m \u001b[31m10.5 MB/s\u001b[0m eta \u001b[36m0:00:00\u001b[0m\n",
            "\u001b[?25hCollecting trio~=0.17\n",
            "  Downloading trio-0.22.0-py3-none-any.whl (384 kB)\n",
            "\u001b[2K     \u001b[90m━━━━━━━━━━━━━━━━━━━━━━━━━━━━━━━━━━━━━━\u001b[0m \u001b[32m384.9/384.9 KB\u001b[0m \u001b[31m36.0 MB/s\u001b[0m eta \u001b[36m0:00:00\u001b[0m\n",
            "\u001b[?25hCollecting outcome\n",
            "  Downloading outcome-1.2.0-py2.py3-none-any.whl (9.7 kB)\n",
            "Requirement already satisfied: sortedcontainers in /usr/local/lib/python3.8/dist-packages (from trio~=0.17->selenium==4.1.0) (2.4.0)\n",
            "Collecting async-generator>=1.9\n",
            "  Downloading async_generator-1.10-py3-none-any.whl (18 kB)\n",
            "Collecting sniffio\n",
            "  Downloading sniffio-1.3.0-py3-none-any.whl (10 kB)\n",
            "Collecting exceptiongroup>=1.0.0rc9\n",
            "  Downloading exceptiongroup-1.1.0-py3-none-any.whl (14 kB)\n",
            "Requirement already satisfied: idna in /usr/local/lib/python3.8/dist-packages (from trio~=0.17->selenium==4.1.0) (2.10)\n",
            "Requirement already satisfied: attrs>=19.2.0 in /usr/local/lib/python3.8/dist-packages (from trio~=0.17->selenium==4.1.0) (22.2.0)\n",
            "Collecting wsproto>=0.14\n",
            "  Downloading wsproto-1.2.0-py3-none-any.whl (24 kB)\n",
            "Collecting cryptography>=1.3.4\n",
            "  Downloading cryptography-39.0.0-cp36-abi3-manylinux_2_28_x86_64.whl (4.2 MB)\n",
            "\u001b[2K     \u001b[90m━━━━━━━━━━━━━━━━━━━━━━━━━━━━━━━━━━━━━━━━\u001b[0m \u001b[32m4.2/4.2 MB\u001b[0m \u001b[31m50.3 MB/s\u001b[0m eta \u001b[36m0:00:00\u001b[0m\n",
            "\u001b[?25hCollecting urllib3-secure-extra\n",
            "  Downloading urllib3_secure_extra-0.1.0-py2.py3-none-any.whl (1.4 kB)\n",
            "Collecting pyOpenSSL>=0.14\n",
            "  Downloading pyOpenSSL-23.0.0-py3-none-any.whl (57 kB)\n",
            "\u001b[2K     \u001b[90m━━━━━━━━━━━━━━━━━━━━━━━━━━━━━━━━━━━━━━━━\u001b[0m \u001b[32m57.3/57.3 KB\u001b[0m \u001b[31m4.2 MB/s\u001b[0m eta \u001b[36m0:00:00\u001b[0m\n",
            "\u001b[?25hRequirement already satisfied: certifi in /usr/local/lib/python3.8/dist-packages (from urllib3[secure]~=1.26->selenium==4.1.0) (2022.12.7)\n",
            "Requirement already satisfied: cffi>=1.12 in /usr/local/lib/python3.8/dist-packages (from cryptography>=1.3.4->urllib3[secure]~=1.26->selenium==4.1.0) (1.15.1)\n",
            "Collecting h11<1,>=0.9.0\n",
            "  Downloading h11-0.14.0-py3-none-any.whl (58 kB)\n",
            "\u001b[2K     \u001b[90m━━━━━━━━━━━━━━━━━━━━━━━━━━━━━━━━━━━━━━━━\u001b[0m \u001b[32m58.3/58.3 KB\u001b[0m \u001b[31m4.0 MB/s\u001b[0m eta \u001b[36m0:00:00\u001b[0m\n",
            "\u001b[?25hRequirement already satisfied: pycparser in /usr/local/lib/python3.8/dist-packages (from cffi>=1.12->cryptography>=1.3.4->urllib3[secure]~=1.26->selenium==4.1.0) (2.21)\n",
            "Installing collected packages: urllib3-secure-extra, urllib3, sniffio, outcome, h11, exceptiongroup, async-generator, wsproto, trio, cryptography, trio-websocket, pyOpenSSL, selenium\n",
            "  Attempting uninstall: urllib3\n",
            "    Found existing installation: urllib3 1.24.3\n",
            "    Uninstalling urllib3-1.24.3:\n",
            "      Successfully uninstalled urllib3-1.24.3\n",
            "Successfully installed async-generator-1.10 cryptography-39.0.0 exceptiongroup-1.1.0 h11-0.14.0 outcome-1.2.0 pyOpenSSL-23.0.0 selenium-4.1.0 sniffio-1.3.0 trio-0.22.0 trio-websocket-0.9.2 urllib3-1.26.14 urllib3-secure-extra-0.1.0 wsproto-1.2.0\n"
          ]
        }
      ]
    },
    {
      "cell_type": "markdown",
      "source": [
        "###Chromium-Chromedriverのインストール"
      ],
      "metadata": {
        "id": "-bBjLS7w3a7Y"
      }
    },
    {
      "cell_type": "code",
      "source": [
        "!apt install chromium-chromedriver"
      ],
      "metadata": {
        "colab": {
          "base_uri": "https://localhost:8080/"
        },
        "id": "E0PJj0MR2-Qh",
        "outputId": "0c4cb9e0-cd56-44b9-d0d0-5d2d1f38321d"
      },
      "execution_count": 2,
      "outputs": [
        {
          "output_type": "stream",
          "name": "stdout",
          "text": [
            "Reading package lists... Done\n",
            "Building dependency tree       \n",
            "Reading state information... Done\n",
            "The following additional packages will be installed:\n",
            "  apparmor chromium-browser liblzo2-2 snapd squashfs-tools\n",
            "Suggested packages:\n",
            "  apparmor-profiles-extra apparmor-utils\n",
            "The following NEW packages will be installed:\n",
            "  apparmor chromium-browser chromium-chromedriver liblzo2-2 snapd\n",
            "  squashfs-tools\n",
            "0 upgraded, 6 newly installed, 0 to remove and 23 not upgraded.\n",
            "Need to get 38.4 MB of archives.\n",
            "After this operation, 173 MB of additional disk space will be used.\n",
            "Get:1 http://archive.ubuntu.com/ubuntu focal-updates/main amd64 apparmor amd64 2.13.3-7ubuntu5.1 [494 kB]\n",
            "Get:2 http://archive.ubuntu.com/ubuntu focal/main amd64 liblzo2-2 amd64 2.10-2 [50.8 kB]\n",
            "Get:3 http://archive.ubuntu.com/ubuntu focal-updates/main amd64 squashfs-tools amd64 1:4.4-1ubuntu0.3 [117 kB]\n",
            "Get:4 http://archive.ubuntu.com/ubuntu focal-updates/main amd64 snapd amd64 2.57.5+20.04ubuntu0.1 [37.6 MB]\n",
            "Get:5 http://archive.ubuntu.com/ubuntu focal-updates/universe amd64 chromium-browser amd64 1:85.0.4183.83-0ubuntu0.20.04.2 [48.3 kB]\n",
            "Get:6 http://archive.ubuntu.com/ubuntu focal-updates/universe amd64 chromium-chromedriver amd64 1:85.0.4183.83-0ubuntu0.20.04.2 [2,496 B]\n",
            "Fetched 38.4 MB in 3s (13.2 MB/s)\n",
            "Preconfiguring packages ...\n",
            "Selecting previously unselected package apparmor.\n",
            "(Reading database ... 129501 files and directories currently installed.)\n",
            "Preparing to unpack .../apparmor_2.13.3-7ubuntu5.1_amd64.deb ...\n",
            "Unpacking apparmor (2.13.3-7ubuntu5.1) ...\n",
            "Selecting previously unselected package liblzo2-2:amd64.\n",
            "Preparing to unpack .../liblzo2-2_2.10-2_amd64.deb ...\n",
            "Unpacking liblzo2-2:amd64 (2.10-2) ...\n",
            "Selecting previously unselected package squashfs-tools.\n",
            "Preparing to unpack .../squashfs-tools_1%3a4.4-1ubuntu0.3_amd64.deb ...\n",
            "Unpacking squashfs-tools (1:4.4-1ubuntu0.3) ...\n",
            "Selecting previously unselected package snapd.\n",
            "Preparing to unpack .../snapd_2.57.5+20.04ubuntu0.1_amd64.deb ...\n",
            "Unpacking snapd (2.57.5+20.04ubuntu0.1) ...\n",
            "Setting up apparmor (2.13.3-7ubuntu5.1) ...\n",
            "Created symlink /etc/systemd/system/sysinit.target.wants/apparmor.service → /lib/systemd/system/apparmor.service.\n",
            "Setting up liblzo2-2:amd64 (2.10-2) ...\n",
            "Setting up squashfs-tools (1:4.4-1ubuntu0.3) ...\n",
            "Setting up snapd (2.57.5+20.04ubuntu0.1) ...\n",
            "Created symlink /etc/systemd/system/multi-user.target.wants/snapd.aa-prompt-listener.service → /lib/systemd/system/snapd.aa-prompt-listener.service.\n",
            "Created symlink /etc/systemd/system/multi-user.target.wants/snapd.apparmor.service → /lib/systemd/system/snapd.apparmor.service.\n",
            "Created symlink /etc/systemd/system/multi-user.target.wants/snapd.autoimport.service → /lib/systemd/system/snapd.autoimport.service.\n",
            "Created symlink /etc/systemd/system/multi-user.target.wants/snapd.core-fixup.service → /lib/systemd/system/snapd.core-fixup.service.\n",
            "Created symlink /etc/systemd/system/multi-user.target.wants/snapd.recovery-chooser-trigger.service → /lib/systemd/system/snapd.recovery-chooser-trigger.service.\n",
            "Created symlink /etc/systemd/system/multi-user.target.wants/snapd.seeded.service → /lib/systemd/system/snapd.seeded.service.\n",
            "Created symlink /etc/systemd/system/cloud-final.service.wants/snapd.seeded.service → /lib/systemd/system/snapd.seeded.service.\n",
            "Created symlink /etc/systemd/system/multi-user.target.wants/snapd.service → /lib/systemd/system/snapd.service.\n",
            "Created symlink /etc/systemd/system/timers.target.wants/snapd.snap-repair.timer → /lib/systemd/system/snapd.snap-repair.timer.\n",
            "Created symlink /etc/systemd/system/sockets.target.wants/snapd.socket → /lib/systemd/system/snapd.socket.\n",
            "Created symlink /etc/systemd/system/final.target.wants/snapd.system-shutdown.service → /lib/systemd/system/snapd.system-shutdown.service.\n",
            "Selecting previously unselected package chromium-browser.\n",
            "(Reading database ... 129791 files and directories currently installed.)\n",
            "Preparing to unpack .../chromium-browser_1%3a85.0.4183.83-0ubuntu0.20.04.2_amd64.deb ...\n",
            "=> Installing the chromium snap\n",
            "==> Checking connectivity with the snap store\n",
            "===> System doesn't have a working snapd, skipping\n",
            "Unpacking chromium-browser (1:85.0.4183.83-0ubuntu0.20.04.2) ...\n",
            "Selecting previously unselected package chromium-chromedriver.\n",
            "Preparing to unpack .../chromium-chromedriver_1%3a85.0.4183.83-0ubuntu0.20.04.2_amd64.deb ...\n",
            "Unpacking chromium-chromedriver (1:85.0.4183.83-0ubuntu0.20.04.2) ...\n",
            "Setting up chromium-browser (1:85.0.4183.83-0ubuntu0.20.04.2) ...\n",
            "update-alternatives: using /usr/bin/chromium-browser to provide /usr/bin/x-www-browser (x-www-browser) in auto mode\n",
            "update-alternatives: using /usr/bin/chromium-browser to provide /usr/bin/gnome-www-browser (gnome-www-browser) in auto mode\n",
            "Setting up chromium-chromedriver (1:85.0.4183.83-0ubuntu0.20.04.2) ...\n",
            "Processing triggers for mime-support (3.64ubuntu1) ...\n",
            "Processing triggers for hicolor-icon-theme (0.17-2) ...\n",
            "Processing triggers for libc-bin (2.31-0ubuntu9.9) ...\n",
            "Processing triggers for systemd (245.4-4ubuntu3.19) ...\n",
            "Processing triggers for man-db (2.9.1-1) ...\n",
            "Processing triggers for dbus (1.12.16-2ubuntu2.3) ...\n"
          ]
        }
      ]
    },
    {
      "cell_type": "markdown",
      "source": [
        "##Seleniumを実行して操作する"
      ],
      "metadata": {
        "id": "azWzFVev4vFd"
      }
    },
    {
      "cell_type": "markdown",
      "source": [
        "###その他のライブラリのimport"
      ],
      "metadata": {
        "id": "HaJ6WIzF5IJ-"
      }
    },
    {
      "cell_type": "code",
      "source": [
        "import requests\n",
        "from selenium import webdriver\n",
        "from selenium.webdriver.chrome.options import Options\n",
        "import os\n",
        "import time\n",
        "import datetime\n",
        "#エラー処理用\n",
        "from selenium.common.exceptions import NoSuchElementException\n",
        "from selenium.common.exceptions import ElementClickInterceptedException"
      ],
      "metadata": {
        "id": "5bm1vyDI31xr"
      },
      "execution_count": 3,
      "outputs": []
    },
    {
      "cell_type": "markdown",
      "source": [
        "##ログ用に時刻を取得"
      ],
      "metadata": {
        "id": "0UtQObRP7Cmx"
      }
    },
    {
      "cell_type": "code",
      "source": [
        "tm_start = time.time()  #処理時間計測用\n",
        "dt_now = datetime.datetime.now()  #現在日時\n",
        "dt_date_str = dt_now.strftime('%Y/%m/%d %H:%M')  #書式指定して変換\n",
        "print(dt_date_str)"
      ],
      "metadata": {
        "colab": {
          "base_uri": "https://localhost:8080/"
        },
        "id": "C6kU6jJ77GBo",
        "outputId": "af6b1092-803d-4a9c-b62f-51eca7f39e53"
      },
      "execution_count": 4,
      "outputs": [
        {
          "output_type": "stream",
          "name": "stdout",
          "text": [
            "2023/01/18 05:14\n"
          ]
        }
      ]
    },
    {
      "cell_type": "markdown",
      "source": [
        "##検索に関する設定値を定義する"
      ],
      "metadata": {
        "id": "sBrudt6s9bxp"
      }
    },
    {
      "cell_type": "code",
      "source": [
        "QUERY = '犬 フリー'  #検索したいキーワード\n",
        "LIMIT_DL_NUM = 100  #ダウンロード数の上限\n",
        "SAVE_DIR = 'img/dog_'  #出力フォルダ(自動生成させる)\n",
        "FILE_NAME = 'dog_'  #ファイル名(後ろに連番と拡張子をつけていく)\n",
        "TIMEOUT = 60  #検索のタイムアウト(秒)\n",
        "ACCESS_WAIT = 1  #アクセスする間隔(秒)\n",
        "RETRY_NUM = 3  #クリックやリクエストのリトライ回数\n",
        "DRIVER_PATH = '/usr/bin/chromedriver'  #Chromedriver.exeへのパス"
      ],
      "metadata": {
        "id": "8r4XPLi-9fiB"
      },
      "execution_count": 5,
      "outputs": []
    },
    {
      "cell_type": "markdown",
      "source": [
        "##Chromeをヘッドレスモードで起動する\n",
        "ヘッドレスモード = ブラウザを画面に開かないで実行する"
      ],
      "metadata": {
        "id": "nKjBgsZbAFCG"
      }
    },
    {
      "cell_type": "code",
      "source": [
        "#optionの指定を準備\n",
        "options = Options()\n",
        "options.add_argument('--headless')\n",
        "options.add_argument('--no-sandbox')\n",
        "options.add_argument('--disable-dev-shm-usage')\n",
        "options.add_argument('start-fullscreen')\n",
        "options.add_argument('--disable-plugins')\n",
        "options.add_argument('disable-extensions')\n",
        "#起動する\n",
        "driver = webdriver.Chrome(DRIVER_PATH, options = options)\n",
        "driver.implicitly_wait(TIMEOUT)  #タイムアウトを設定\n",
        "#ログに処理時間出力\n",
        "tm_driver = time.time()\n",
        "print('WebDriver起動完了', f'{tm_driver - tm_start}s')"
      ],
      "metadata": {
        "colab": {
          "base_uri": "https://localhost:8080/",
          "height": 491
        },
        "id": "gMTBAjuo9pzt",
        "outputId": "b405f3a1-e6a2-464b-9f41-7756fd2cb3bb"
      },
      "execution_count": 6,
      "outputs": [
        {
          "output_type": "stream",
          "name": "stderr",
          "text": [
            "<ipython-input-6-365ba02fe86a>:10: DeprecationWarning: executable_path has been deprecated, please pass in a Service object\n",
            "  driver = webdriver.Chrome(DRIVER_PATH, options = options)\n"
          ]
        },
        {
          "output_type": "error",
          "ename": "WebDriverException",
          "evalue": "ignored",
          "traceback": [
            "\u001b[0;31m---------------------------------------------------------------------------\u001b[0m",
            "\u001b[0;31mWebDriverException\u001b[0m                        Traceback (most recent call last)",
            "\u001b[0;32m<ipython-input-6-365ba02fe86a>\u001b[0m in \u001b[0;36m<module>\u001b[0;34m\u001b[0m\n\u001b[1;32m      8\u001b[0m \u001b[0moptions\u001b[0m\u001b[0;34m.\u001b[0m\u001b[0madd_argument\u001b[0m\u001b[0;34m(\u001b[0m\u001b[0;34m'disable-extensions'\u001b[0m\u001b[0;34m)\u001b[0m\u001b[0;34m\u001b[0m\u001b[0;34m\u001b[0m\u001b[0m\n\u001b[1;32m      9\u001b[0m \u001b[0;31m#起動する\u001b[0m\u001b[0;34m\u001b[0m\u001b[0;34m\u001b[0m\u001b[0;34m\u001b[0m\u001b[0m\n\u001b[0;32m---> 10\u001b[0;31m \u001b[0mdriver\u001b[0m \u001b[0;34m=\u001b[0m \u001b[0mwebdriver\u001b[0m\u001b[0;34m.\u001b[0m\u001b[0mChrome\u001b[0m\u001b[0;34m(\u001b[0m\u001b[0mDRIVER_PATH\u001b[0m\u001b[0;34m,\u001b[0m \u001b[0moptions\u001b[0m \u001b[0;34m=\u001b[0m \u001b[0moptions\u001b[0m\u001b[0;34m)\u001b[0m\u001b[0;34m\u001b[0m\u001b[0;34m\u001b[0m\u001b[0m\n\u001b[0m\u001b[1;32m     11\u001b[0m \u001b[0mdriver\u001b[0m\u001b[0;34m.\u001b[0m\u001b[0mimplicitly_wait\u001b[0m\u001b[0;34m(\u001b[0m\u001b[0mTIMEOUT\u001b[0m\u001b[0;34m)\u001b[0m  \u001b[0;31m#タイムアウトを設定\u001b[0m\u001b[0;34m\u001b[0m\u001b[0;34m\u001b[0m\u001b[0m\n\u001b[1;32m     12\u001b[0m \u001b[0;31m#ログに処理時間出力\u001b[0m\u001b[0;34m\u001b[0m\u001b[0;34m\u001b[0m\u001b[0;34m\u001b[0m\u001b[0m\n",
            "\u001b[0;32m/usr/local/lib/python3.8/dist-packages/selenium/webdriver/chrome/webdriver.py\u001b[0m in \u001b[0;36m__init__\u001b[0;34m(self, executable_path, port, options, service_args, desired_capabilities, service_log_path, chrome_options, service, keep_alive)\u001b[0m\n\u001b[1;32m     68\u001b[0m             \u001b[0mservice\u001b[0m \u001b[0;34m=\u001b[0m \u001b[0mService\u001b[0m\u001b[0;34m(\u001b[0m\u001b[0mexecutable_path\u001b[0m\u001b[0;34m,\u001b[0m \u001b[0mport\u001b[0m\u001b[0;34m,\u001b[0m \u001b[0mservice_args\u001b[0m\u001b[0;34m,\u001b[0m \u001b[0mservice_log_path\u001b[0m\u001b[0;34m)\u001b[0m\u001b[0;34m\u001b[0m\u001b[0;34m\u001b[0m\u001b[0m\n\u001b[1;32m     69\u001b[0m \u001b[0;34m\u001b[0m\u001b[0m\n\u001b[0;32m---> 70\u001b[0;31m         super(WebDriver, self).__init__(DesiredCapabilities.CHROME['browserName'], \"goog\",\n\u001b[0m\u001b[1;32m     71\u001b[0m                                         \u001b[0mport\u001b[0m\u001b[0;34m,\u001b[0m \u001b[0moptions\u001b[0m\u001b[0;34m,\u001b[0m\u001b[0;34m\u001b[0m\u001b[0;34m\u001b[0m\u001b[0m\n\u001b[1;32m     72\u001b[0m                                         \u001b[0mservice_args\u001b[0m\u001b[0;34m,\u001b[0m \u001b[0mdesired_capabilities\u001b[0m\u001b[0;34m,\u001b[0m\u001b[0;34m\u001b[0m\u001b[0;34m\u001b[0m\u001b[0m\n",
            "\u001b[0;32m/usr/local/lib/python3.8/dist-packages/selenium/webdriver/chromium/webdriver.py\u001b[0m in \u001b[0;36m__init__\u001b[0;34m(self, browser_name, vendor_prefix, port, options, service_args, desired_capabilities, service_log_path, service, keep_alive)\u001b[0m\n\u001b[1;32m     88\u001b[0m \u001b[0;34m\u001b[0m\u001b[0m\n\u001b[1;32m     89\u001b[0m         \u001b[0mself\u001b[0m\u001b[0;34m.\u001b[0m\u001b[0mservice\u001b[0m \u001b[0;34m=\u001b[0m \u001b[0mservice\u001b[0m\u001b[0;34m\u001b[0m\u001b[0;34m\u001b[0m\u001b[0m\n\u001b[0;32m---> 90\u001b[0;31m         \u001b[0mself\u001b[0m\u001b[0;34m.\u001b[0m\u001b[0mservice\u001b[0m\u001b[0;34m.\u001b[0m\u001b[0mstart\u001b[0m\u001b[0;34m(\u001b[0m\u001b[0;34m)\u001b[0m\u001b[0;34m\u001b[0m\u001b[0;34m\u001b[0m\u001b[0m\n\u001b[0m\u001b[1;32m     91\u001b[0m \u001b[0;34m\u001b[0m\u001b[0m\n\u001b[1;32m     92\u001b[0m         \u001b[0;32mtry\u001b[0m\u001b[0;34m:\u001b[0m\u001b[0;34m\u001b[0m\u001b[0;34m\u001b[0m\u001b[0m\n",
            "\u001b[0;32m/usr/local/lib/python3.8/dist-packages/selenium/webdriver/common/service.py\u001b[0m in \u001b[0;36mstart\u001b[0;34m(self)\u001b[0m\n\u001b[1;32m     96\u001b[0m         \u001b[0mcount\u001b[0m \u001b[0;34m=\u001b[0m \u001b[0;36m0\u001b[0m\u001b[0;34m\u001b[0m\u001b[0;34m\u001b[0m\u001b[0m\n\u001b[1;32m     97\u001b[0m         \u001b[0;32mwhile\u001b[0m \u001b[0;32mTrue\u001b[0m\u001b[0;34m:\u001b[0m\u001b[0;34m\u001b[0m\u001b[0;34m\u001b[0m\u001b[0m\n\u001b[0;32m---> 98\u001b[0;31m             \u001b[0mself\u001b[0m\u001b[0;34m.\u001b[0m\u001b[0massert_process_still_running\u001b[0m\u001b[0;34m(\u001b[0m\u001b[0;34m)\u001b[0m\u001b[0;34m\u001b[0m\u001b[0;34m\u001b[0m\u001b[0m\n\u001b[0m\u001b[1;32m     99\u001b[0m             \u001b[0;32mif\u001b[0m \u001b[0mself\u001b[0m\u001b[0;34m.\u001b[0m\u001b[0mis_connectable\u001b[0m\u001b[0;34m(\u001b[0m\u001b[0;34m)\u001b[0m\u001b[0;34m:\u001b[0m\u001b[0;34m\u001b[0m\u001b[0;34m\u001b[0m\u001b[0m\n\u001b[1;32m    100\u001b[0m                 \u001b[0;32mbreak\u001b[0m\u001b[0;34m\u001b[0m\u001b[0;34m\u001b[0m\u001b[0m\n",
            "\u001b[0;32m/usr/local/lib/python3.8/dist-packages/selenium/webdriver/common/service.py\u001b[0m in \u001b[0;36massert_process_still_running\u001b[0;34m(self)\u001b[0m\n\u001b[1;32m    108\u001b[0m         \u001b[0mreturn_code\u001b[0m \u001b[0;34m=\u001b[0m \u001b[0mself\u001b[0m\u001b[0;34m.\u001b[0m\u001b[0mprocess\u001b[0m\u001b[0;34m.\u001b[0m\u001b[0mpoll\u001b[0m\u001b[0;34m(\u001b[0m\u001b[0;34m)\u001b[0m\u001b[0;34m\u001b[0m\u001b[0;34m\u001b[0m\u001b[0m\n\u001b[1;32m    109\u001b[0m         \u001b[0;32mif\u001b[0m \u001b[0mreturn_code\u001b[0m\u001b[0;34m:\u001b[0m\u001b[0;34m\u001b[0m\u001b[0;34m\u001b[0m\u001b[0m\n\u001b[0;32m--> 110\u001b[0;31m             raise WebDriverException(\n\u001b[0m\u001b[1;32m    111\u001b[0m                 \u001b[0;34m'Service %s unexpectedly exited. Status code was: %s'\u001b[0m\u001b[0;34m\u001b[0m\u001b[0;34m\u001b[0m\u001b[0m\n\u001b[1;32m    112\u001b[0m                 \u001b[0;34m%\u001b[0m \u001b[0;34m(\u001b[0m\u001b[0mself\u001b[0m\u001b[0;34m.\u001b[0m\u001b[0mpath\u001b[0m\u001b[0;34m,\u001b[0m \u001b[0mreturn_code\u001b[0m\u001b[0;34m)\u001b[0m\u001b[0;34m\u001b[0m\u001b[0;34m\u001b[0m\u001b[0m\n",
            "\u001b[0;31mWebDriverException\u001b[0m: Message: Service /usr/bin/chromedriver unexpectedly exited. Status code was: 1\n"
          ]
        }
      ]
    },
    {
      "cell_type": "markdown",
      "source": [
        "##Googleの画像検索へアクセス"
      ],
      "metadata": {
        "id": "-hxzHKkxG8i5"
      }
    },
    {
      "cell_type": "code",
      "source": [
        "#QUERY条件付きでURLを定義する\n",
        "url = f'https://www.google.com/search?q={QUERY}&tbm=isch'\n",
        "#組み立てたURLでアクセスして検索\n",
        "driver.get(url)\n",
        "#時刻のログを取得\n",
        "tm_geturl = time.time()\n",
        "print('Google画像検索ページ取得', f'{tm_geturl - tm_driver:.1f}s')"
      ],
      "metadata": {
        "id": "mrxIVuKVHBVg"
      },
      "execution_count": null,
      "outputs": []
    },
    {
      "cell_type": "markdown",
      "source": [
        "##検索結果の要素を取得していく"
      ],
      "metadata": {
        "id": "p-5nUuNuPooe"
      }
    },
    {
      "cell_type": "code",
      "source": [
        "#ページのサムネイル画像の要素群を取得(islmpクラスが指定されたimg=サムネイルをすべて拾う)\n",
        "tmb_elems= driver.find_elements_by_css_selector('#islmp img')\n",
        "#サムネイルのリストから各サムネイルのalt属性を取得\n",
        "tmb_alts = [tmb.get_attribute('alt') for tmb in tmb_elems]\n",
        "#alt属性が空(小さいサムネイル)のものを差し引いて合計を算出\n",
        "count = len(tmb_alts) - tmb_alts.count('')\n",
        "print(count)"
      ],
      "metadata": {
        "id": "6P6nk4qHPkBN"
      },
      "execution_count": null,
      "outputs": []
    },
    {
      "cell_type": "markdown",
      "source": [
        "##下にスクロールさせて更に検索結果を表示させてカウント"
      ],
      "metadata": {
        "id": "-_x0N10uTGG6"
      }
    },
    {
      "cell_type": "code",
      "source": [
        "#定義したLIMIT_DL_NUM(ダウンロード数の上限)になるまでスクロールを繰り返す\n",
        "while count < LIMIT_DL_NUM:\n",
        "  #ページの一番下へスクロールして新しいサムネイル画像を表示させる\n",
        "  driver.execute_script('window.scrollTo(0, document.body.scrollHeight);')\n",
        "  time.sleep(1)  #スリープを繰り返す間隔(秒)を入れる\n",
        "  #ページのサムネイル画像の要素群を取得(islmpクラスが指定されたimg=サムネイルをすべて拾う)\n",
        "  tmb_elems= driver.find_elements_by_css_selector('#islmp img')\n",
        "  #サムネイルのリストから各サムネイルのalt属性を取得\n",
        "  tmb_alts = [tmb.get_attribute('alt') for tmb in tmb_elems]\n",
        "  #alt属性が空(小さいサムネイル)のものを差し引いて合計を算出\n",
        "  count = len(tmb_alts) - tmb_alts.count('')\n",
        "  print(count)\n",
        "  #ループ終わり"
      ],
      "metadata": {
        "id": "w2y7QeyVSN5L"
      },
      "execution_count": null,
      "outputs": []
    },
    {
      "cell_type": "markdown",
      "source": [
        "##サムネイル画像をクリックすると右側に開かれる領域をオブジェクトに取得"
      ],
      "metadata": {
        "id": "t-UCwIp0ZMGm"
      }
    },
    {
      "cell_type": "code",
      "source": [
        "imgframe_elem = driver.find_element_by_id(('islsp'))"
      ],
      "metadata": {
        "id": "_QD3VlqITq0a"
      },
      "execution_count": null,
      "outputs": []
    },
    {
      "cell_type": "markdown",
      "source": [
        "##画像へURLアクセスして保存する準備をする"
      ],
      "metadata": {
        "id": "t0m-JedmZ79l"
      }
    },
    {
      "cell_type": "code",
      "source": [
        "#画像の保存フォルダを作成\n",
        "os.makedirs(SAVE_DIR, exist_ok = True)\n",
        "#HTTPリクエスト用のヘッダーを作る\n",
        "HTTP_HEADERS = {'User-Aget':driver.execute_script('return navigator.userAgent;')}\n",
        "print(HTTP_HEADERS)\n",
        "#ダウンロードしていきたい対象のファイル拡張子\n",
        "IMG_EXIS = ('.jpg', '.jpeg', '.png', '.gif')"
      ],
      "metadata": {
        "id": "r4Q3iQS_aHQW"
      },
      "execution_count": null,
      "outputs": []
    },
    {
      "cell_type": "markdown",
      "source": [
        "##ダウンロード中に利用する関数を定義する\n",
        "###画像の拡張子を取得する関数"
      ],
      "metadata": {
        "id": "fhC-Ddy9cMxd"
      }
    },
    {
      "cell_type": "code",
      "source": [
        "#拡張子を取得する関数\n",
        "def get_extention(utl):\n",
        "  url_lower = url.lower()\n",
        "  for img_ext in IMG_EXTS:  #拡張子のリストから一つずつ比較\n",
        "    if img_ext in url_lower:\n",
        "      extension = '.jpg' if img_ext == '.jpeg' else img_ext\n",
        "      break\n",
        "    #if終わり\n",
        "      extension = ''\n",
        "    #for文終わり\n",
        "      return extension\n",
        "#関数終わり"
      ],
      "metadata": {
        "id": "kQA_nBlMaNwI"
      },
      "execution_count": null,
      "outputs": []
    },
    {
      "cell_type": "markdown",
      "source": [
        "##URLで指定した画像へアクセスし、フォルダ内のファイルとして書き込む"
      ],
      "metadata": {
        "id": "Sq26ZHnAGk-_"
      }
    },
    {
      "cell_type": "code",
      "source": [
        "def download_image(url, path, loop):\n",
        "  result = False  #戻り値の変数\n",
        "  for i in range(loop):\n",
        "    try:\n",
        "      r = requests.get(url, headers = HTTP_HEADERS, stream = True, timeout = 10)\n",
        "      r.raise_for_status()\n",
        "      with open(path, 'wb') as f:  #バイナリ書き込みモードで開く\n",
        "        f.white(r.content)\n",
        "\n",
        "    except requests.exceptions.SSLError:\n",
        "      print('***** SSL エラー')\n",
        "      break  #リトライしない\n",
        "    except requests. exceptions.RequestException as e:\n",
        "      print(f'***** requests エラー({e}): {i + 1} / {RETRY_NUMU}')\n",
        "  #ループ終わり      \n",
        "  #関数終わり"
      ],
      "metadata": {
        "id": "dsS_hVatGv8p"
      },
      "execution_count": null,
      "outputs": []
    },
    {
      "cell_type": "code",
      "source": [
        "#サムネイルを取得し、画像ダウンロードの準備ができたタイミング\n",
        "tm_thumbnails = time.time()\n",
        "print('サムネイル画像取得とDL準備完了', f'{tm_thumbnails - tm_geturl:.1f}s')"
      ],
      "metadata": {
        "id": "1giM81-uVCZG"
      },
      "execution_count": null,
      "outputs": []
    },
    {
      "cell_type": "markdown",
      "source": [
        "##ダウンロード処理"
      ],
      "metadata": {
        "id": "-Qrpw9PbU6VQ"
      }
    },
    {
      "cell_type": "code",
      "source": [
        "EXCLUSION_URL = 'https//ih3 googleusercontent.com/'  #除外対象URL\n",
        "count = 0\n",
        "url_list = []\n",
        "\n",
        "#サムネイルをクリック、画像リンクを取得、画像をDL＆保存を繰り返す\n",
        "#zipで組み合わせの順番を固定化\n",
        "for tmb_elem, tmb_alt in zip(tmb_elems, tmb_alts):\n",
        "  if tmb_alt == '':  #ALT属性が空＝小さいサムネイルとみなしてスキップ\n",
        "    continue\n",
        "  print(f'{count}:{tmb_alt}')  #カウンタとALY属性を表示\n",
        "  #リトライ回数分だけ試行\n",
        "  for i in range(RETRY_NUM):\n",
        "    #サムネイルをクリック\n",
        "    try:\n",
        "      tmb_elem.click()\n",
        "    except ElementClickInterceptedException:\n",
        "      print(f'***** click エラー: {i + 1} / {RETRY_NUM}')\n",
        "      #フォーカスをあわせる\n",
        "      driver.execute_script('arguments[0].scrollIntoView(true);', tmb_elem)\n",
        "      time.sleep(1)\n",
        "    else:\n",
        "      break  #try成功（クリック成功）\n",
        "  #forの終わり\n",
        "  else:\n",
        "    print('***** キャンセル')\n",
        "    continue  #リトライ失敗、次のアイコンにスキップ\n",
        "  #クリック成功したら、処理を続ける\n",
        "  time.sleep(ACCESS_WAIT)\n",
        "  #alt属性の加工\n",
        "  alt = tmb_alt.replace(\"'\", \"\\\\\")\n",
        "  try:\n",
        "    #左側のalt属性を基に左側の大きな画像をalt属性を指定して取得\n",
        "    img_elem = imgframe_elem.find_element_by_css_selector(f'img[alt=\\'{alt}\\']')\n",
        "  except NoSuchElementException:  #右側に対応する要素が見つからない\n",
        "    print('***** img要素検索エラー')\n",
        "    print('***** キャンセル')\n",
        "    continue  #次のサムネイルへスキップ\n",
        "  #右の大きな画像オブジェクトが取得出来たら、その画像リンクを取得する\n",
        "  tmb_url = tmb_elem.get_attribute('src')  #サムネイルsrc属性からリンクurlを取得\n",
        "  \n",
        "  #リトライしながらURLをチェック \n",
        "  for i in range(RETRY_NUM):\n",
        "    #大きい画像のURL\n",
        "    url = img_elem.get_attribute('src')\n",
        "    if EXCLUSION_URL in url:\n",
        "      print('除外対象url')\n",
        "      url = ''\n",
        "      break  #ループ中断\n",
        "    elif url == tmb_url:  #サムネイルのurlと一緒なら、リプレイを続ける\n",
        "      print(f'***** urlチェック: {i + 1} / {RETRY_NUM}')\n",
        "    else:\n",
        "      break  #ループ中断（除外対象でもサムネイルでもない、OKなurl）\n",
        "    #RETRYループ終わり\n",
        "  #urlチェックの結果、OKなリンクでなければ次のサムネイルへスキップ\n",
        "  if url == '':\n",
        "    print('***** キャンセル')  #大きなループをcontinue\n",
        "    continue\n",
        "  #url先の拡張子が指定の画像拡張子でなければ次のサムネイルへスキップ\n",
        "  ext = get_extension(url)  #自作の関数で拡張子を取得\n",
        "  if ext == '':  #指定の画像拡張子でない場合\n",
        "    print(f'***** urlに拡張子が含まれていないのでキャンセル')\n",
        "    print(f'{url}')\n",
        "    continue\n",
        "\n",
        "  #ダウンロード周り：保存するファイルパスを指定する\n",
        "  filename = f'{FILE_NAME}{count}{ext}'\n",
        "  path = SAVE_DIR + '/' + filename\n",
        "  #ダウンロードを実行（自作関数を呼び出す）\n",
        "  result = download_image(url, path, RETRY_NUM)\n",
        "  if result == False:\n",
        "    print('***** キャンセル')\n",
        "    continue  #次のサムネイルへスキップ\n",
        "  #ダウンロードしたurlをリストに追加\n",
        "  url_list.append(f'{filename}:{url}')\n",
        "\n",
        "  #最後に、ダウンロード数カウンタの更新と終了判定\n",
        "  count += 1\n",
        "  if count >= LIMIT_DL_NUM:\n",
        "    break  #ダウンロードのループを終了  \n",
        "#ループ終了\n",
        "tm_end = time.time()  #現在時刻\n",
        "print('ダウンロード', f'{tm_end - tm_thumbnails:.1f}s')\n",
        "print('------------------------')"
      ],
      "metadata": {
        "id": "BO9nEYPfWFaU"
      },
      "execution_count": null,
      "outputs": []
    },
    {
      "cell_type": "markdown",
      "source": [
        "##Colab上へダウンロードしたファイルをipで固めてローカルにダウンロードする"
      ],
      "metadata": {
        "id": "TVod601agu8Z"
      }
    },
    {
      "cell_type": "code",
      "source": [
        "#ここまでのトータル所要時間を出力する\n",
        "total = tm_end - tm_start\n",
        "total_str = f'トータル時間：{total:.1f}s({total/60:.2f}min)'\n",
        "count_str = f'ダウンロード数：{count}'\n",
        "print(total_str)\n",
        "print(count_str)"
      ],
      "metadata": {
        "id": "Du4ezFevV4kI"
      },
      "execution_count": null,
      "outputs": []
    },
    {
      "cell_type": "markdown",
      "source": [
        "##Google検索してダウンロードした画像のURLもテキストに保存してローカルPCへダウンロードする"
      ],
      "metadata": {
        "id": "WwfFKoOMO-cc"
      }
    },
    {
      "cell_type": "code",
      "source": [
        "#URLを書き込むテキストファイルの場所\n",
        "DIR_TMP = SAVE_DIR + '/url/'\n",
        "os.makedirs(DIR_TMP, exist_ok = True)\n",
        "path = SAVE_DIR + '/url/' + '_url.txt'\n",
        "with open(path, 'w', encording = 'utf-8') as f:\n",
        "  f.write(dt_date_str + '\\n')\n",
        "  f.write(total_str + '\\n')\n",
        "  f.write(count_str + '\\n')\n",
        "  f.write('\\n'.join(url_list))\n",
        "#openここまで\n",
        "driver.quit()  #ブラウザを閉じる  "
      ],
      "metadata": {
        "id": "oq-8WyRviLbg"
      },
      "execution_count": null,
      "outputs": []
    },
    {
      "cell_type": "markdown",
      "source": [
        "##URテキストと画像ファイルをローカルPCにダウンロード"
      ],
      "metadata": {
        "id": "K_7dutK-QF_0"
      }
    },
    {
      "cell_type": "code",
      "source": [
        "#ダウンロードしたフォルダをzpiに圧縮する\n",
        "!zip -r /content/img/download.zip /content/img\n",
        "#圧縮したipファイルをダウンロードする\n",
        "from google.colab import files\n",
        "files.download(\"/content/img_download.zip\")"
      ],
      "metadata": {
        "id": "ygbIlxkXR9Mj"
      },
      "execution_count": null,
      "outputs": []
    }
  ]
}