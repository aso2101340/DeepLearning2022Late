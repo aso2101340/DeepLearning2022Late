{
  "nbformat": 4,
  "nbformat_minor": 0,
  "metadata": {
    "colab": {
      "provenance": [],
      "authorship_tag": "ABX9TyO002YSETIoUVBtUe+gv9wH",
      "include_colab_link": true
    },
    "kernelspec": {
      "name": "python3",
      "display_name": "Python 3"
    },
    "language_info": {
      "name": "python"
    }
  },
  "cells": [
    {
      "cell_type": "markdown",
      "metadata": {
        "id": "view-in-github",
        "colab_type": "text"
      },
      "source": [
        "<a href=\"https://colab.research.google.com/github/aso2101340/DeepLearning2022Late/blob/main/0913_2.ipynb\" target=\"_parent\"><img src=\"https://colab.research.google.com/assets/colab-badge.svg\" alt=\"Open In Colab\"/></a>"
      ]
    },
    {
      "cell_type": "markdown",
      "source": [
        "#辞書型(dictionary)\n",
        "キーと値のペアで管理する"
      ],
      "metadata": {
        "id": "a0RY_DmUy6Rt"
      }
    },
    {
      "cell_type": "markdown",
      "source": [
        "##辞書型の定義文"
      ],
      "metadata": {
        "id": "Ss1E3499zbGQ"
      }
    },
    {
      "cell_type": "code",
      "execution_count": null,
      "metadata": {
        "colab": {
          "base_uri": "https://localhost:8080/"
        },
        "id": "hw3S5WWiyX4H",
        "outputId": "ba543918-120e-474c-d7a2-199671473678"
      },
      "outputs": [
        {
          "output_type": "stream",
          "name": "stdout",
          "text": [
            "{'アップル': 1, 'ペン': 2, 'パイナップル': 3}\n",
            "2\n"
          ]
        }
      ],
      "source": [
        "#辞書型のデータを作って変数dictに代入\n",
        "#{キーワード：値, 'キーワード：値}データを管理\n",
        "dict = {'アップル':1, 'ペン':2, 'パイナップル':3}\n",
        "print(dict)\n",
        "#値を利用するときは、キーワードで指定\n",
        "print(dict['ペン'])"
      ]
    },
    {
      "cell_type": "markdown",
      "source": [
        "##辞書型のキーワード一覧、値一覧を取得する"
      ],
      "metadata": {
        "id": "FwCsb3AP1Wdz"
      }
    },
    {
      "cell_type": "code",
      "source": [
        "print(dict)\n",
        "#dictに入っているキーの一覧\n",
        "print(dict.keys())\n",
        "#dictに入っている値の一覧\n",
        "print(dict.values())"
      ],
      "metadata": {
        "colab": {
          "base_uri": "https://localhost:8080/"
        },
        "id": "cIJj7doqzhRB",
        "outputId": "78a6de41-9f2e-4737-c0b7-7d14def0eba9"
      },
      "execution_count": null,
      "outputs": [
        {
          "output_type": "stream",
          "name": "stdout",
          "text": [
            "{'アップル': 1, 'ペン': 2, 'パイナップル': 3}\n",
            "dict_keys(['アップル', 'ペン', 'パイナップル'])\n",
            "dict_values([1, 2, 3])\n"
          ]
        }
      ]
    },
    {
      "cell_type": "markdown",
      "source": [
        "##辞書型の追加。削除・更新"
      ],
      "metadata": {
        "id": "8l0tH93p2O6v"
      }
    },
    {
      "cell_type": "code",
      "source": [
        "print(dict)\n",
        "#dictにバナナというキーワードで値５を追加\n",
        "#print(dict.keys())\n",
        "dict['バナナ'] = 5\n",
        "print(dict)\n",
        "#キーワードがすでにあったら、そのキーワードの値を更新\n",
        "dict['バナナ'] = 100\n",
        "print(dict)\n",
        "#キーワードで指定したペアを削除\n",
        "dict.pop('バナナ')\n",
        "print(dict)"
      ],
      "metadata": {
        "colab": {
          "base_uri": "https://localhost:8080/"
        },
        "id": "gKh_vQT01xbM",
        "outputId": "e74a2f86-6891-4c5e-9d2a-ae9c76a5f1a2"
      },
      "execution_count": null,
      "outputs": [
        {
          "output_type": "stream",
          "name": "stdout",
          "text": [
            "{'アップル': 1, 'ペン': 2, 'パイナップル': 3}\n",
            "{'アップル': 1, 'ペン': 2, 'パイナップル': 3, 'バナナ': 5}\n",
            "{'アップル': 1, 'ペン': 2, 'パイナップル': 3, 'バナナ': 100}\n",
            "{'アップル': 1, 'ペン': 2, 'パイナップル': 3}\n"
          ]
        }
      ]
    },
    {
      "cell_type": "markdown",
      "source": [
        "#文字列の整形\n",
        "##文字列の連結と繰り返し"
      ],
      "metadata": {
        "id": "mMNPCq504sco"
      }
    },
    {
      "cell_type": "code",
      "source": [
        "#文字列の連結方法①\n",
        "apple = 'アップル'\n",
        "pen = 'ペン'\n",
        "print(apple + pen) #プラス記号で連結\n",
        "#文字列の連結方法② 文字配列を連結する\n",
        "piko = ['ペン', 'パイナップル', 'アップル', 'ペン']\n",
        "#printメソッドで連結して表示 例：,で連結\n",
        "print(','.join(piko))\n",
        "#回数を指定してメッセージを表示\n",
        "pon = 'ポン'\n",
        "print(pon * 3)"
      ],
      "metadata": {
        "colab": {
          "base_uri": "https://localhost:8080/"
        },
        "id": "hOUUpJ1L4lNv",
        "outputId": "684c0357-f3cf-48ac-f479-76936e4b671a"
      },
      "execution_count": null,
      "outputs": [
        {
          "output_type": "stream",
          "name": "stdout",
          "text": [
            "アップルペン\n",
            "ペン,パイナップル,アップル,ペン\n",
            "ポンポンポン\n"
          ]
        }
      ]
    },
    {
      "cell_type": "markdown",
      "source": [
        "##【重要】文字列の整形（フォーマット）"
      ],
      "metadata": {
        "id": "cCxpSpoI66UI"
      }
    },
    {
      "cell_type": "code",
      "source": [
        "#定式で指定した形のメッセージにする\n",
        "print('{}{}:{}円')\n",
        "#スロットを定義した順番に、その数だけデータを引き渡して文章を組み立てる\n",
        "print('{}{}:{}円'.format('アップル', 'ペン', 100))\n",
        "#スロットを値のインデックスで指定することもできる\n",
        "print('{1}{2}:{0}円'.format(100, 'アップル', 'ペン'))"
      ],
      "metadata": {
        "colab": {
          "base_uri": "https://localhost:8080/"
        },
        "id": "PNo0CIze5MI6",
        "outputId": "734a834d-f8de-468b-f191-38a239347234"
      },
      "execution_count": null,
      "outputs": [
        {
          "output_type": "stream",
          "name": "stdout",
          "text": [
            "{}{}:{}円\n",
            "アップルペン:100円\n",
            "アップルペン:100円\n"
          ]
        }
      ]
    },
    {
      "cell_type": "markdown",
      "source": [
        "#コレクション演算\n",
        "リスト、タプル、つまり順番がある集合のことをシーケンスという。\n",
        "順番がない集合を集合型(セット)という。\n",
        "上記２種類をまとめてコレクションという。\n",
        "コレクションは共通の演算が使える　len(長さ、量を取得、max(最大値を取得)、min(最小値を取得)など"
      ],
      "metadata": {
        "id": "8KkjGXoCW9yi"
      }
    },
    {
      "cell_type": "code",
      "source": [
        "list = [1, 1, 2, 3, 4, 5] #６つの要素\n",
        "tuple = (10, 9, 7, 7, 8, 9) #７つの要素\n",
        "set = {1, -2, 3, -4, 5, -6, 7, -8} #８つの要素\n",
        "#リストの長さ、最大値、最小値\n",
        "print(len(list), max(list), min(list))\n",
        "#タプルの長さ、最大値、最小値\n",
        "print(len(tuple), max(tuple), min(tuple))\n",
        "#setの長さ(量), 最大値、最小値\n",
        "#\n",
        "print(len(list), max(list), min(list))"
      ],
      "metadata": {
        "id": "bbVejtUT70fB",
        "colab": {
          "base_uri": "https://localhost:8080/"
        },
        "outputId": "bb48494f-aca5-4703-d178-be30b2258861"
      },
      "execution_count": 2,
      "outputs": [
        {
          "output_type": "stream",
          "name": "stdout",
          "text": [
            "6 5 1\n",
            "6 10 7\n",
            "6 5 1\n"
          ]
        }
      ]
    },
    {
      "cell_type": "code",
      "source": [],
      "metadata": {
        "id": "RsjbCWg2Z6BQ"
      },
      "execution_count": null,
      "outputs": []
    }
  ]
}