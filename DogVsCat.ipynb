{
  "nbformat": 4,
  "nbformat_minor": 0,
  "metadata": {
    "colab": {
      "provenance": [],
      "authorship_tag": "ABX9TyPumzReWaChgYtW1d/Z0Mk3",
      "include_colab_link": true
    },
    "kernelspec": {
      "name": "python3",
      "display_name": "Python 3"
    },
    "language_info": {
      "name": "python"
    }
  },
  "cells": [
    {
      "cell_type": "markdown",
      "metadata": {
        "id": "view-in-github",
        "colab_type": "text"
      },
      "source": [
        "<a href=\"https://colab.research.google.com/github/aso2101340/DeepLearning2022Late/blob/main/DogVsCat.ipynb\" target=\"_parent\"><img src=\"https://colab.research.google.com/assets/colab-badge.svg\" alt=\"Open In Colab\"/></a>"
      ]
    },
    {
      "cell_type": "markdown",
      "source": [
        "#Kerasを使用したディープラーニングをやってみる\n",
        "##画像認識を行う"
      ],
      "metadata": {
        "id": "I2FwdOAr5B7y"
      }
    },
    {
      "cell_type": "markdown",
      "source": [
        "###ライブラリの読み込み"
      ],
      "metadata": {
        "id": "TZWYc14j5gMj"
      }
    },
    {
      "cell_type": "code",
      "execution_count": 2,
      "metadata": {
        "id": "g0XVqp4k2s8I"
      },
      "outputs": [],
      "source": [
        "%matplotlib inline\n",
        "from keras.applications.vgg16 import VGG16, preprocess_input, decode_predictions\n",
        "from keras.preprocessing import image\n",
        "from PIL import Image\n",
        "import matplotlib.pyplot as plt\n",
        "import numpy as np"
      ]
    },
    {
      "cell_type": "markdown",
      "source": [
        "###学習済みモデルの読み込み"
      ],
      "metadata": {
        "id": "BpDQY3wP74AP"
      }
    },
    {
      "cell_type": "code",
      "source": [
        "model = VGG16(weights = 'imagenet')"
      ],
      "metadata": {
        "id": "y8rbXMnQ6QVz",
        "colab": {
          "base_uri": "https://localhost:8080/"
        },
        "outputId": "1a88de14-eb2b-41a0-8246-852da81c30bc"
      },
      "execution_count": 3,
      "outputs": [
        {
          "output_type": "stream",
          "name": "stdout",
          "text": [
            "Downloading data from https://storage.googleapis.com/tensorflow/keras-applications/vgg16/vgg16_weights_tf_dim_ordering_tf_kernels.h5\n",
            "553467904/553467096 [==============================] - 6s 0us/step\n",
            "553476096/553467096 [==============================] - 6s 0us/step\n"
          ]
        }
      ]
    },
    {
      "cell_type": "markdown",
      "source": [
        "###画像判定のための関数"
      ],
      "metadata": {
        "id": "Ac8GwbXa9Pue"
      }
    },
    {
      "cell_type": "code",
      "source": [
        "def predict(filename, featuresize):\n",
        "  img = image.load_img(filename, target_size = (224,224))\n",
        "  x = image.img_to_array(img)\n",
        "  x = np.expand_dims(x, axis = 0)\n",
        "  #学習モデルで判定を実行\n",
        "  preds = model.predict(preprocess_input(x))\n",
        "  results = decode_predictions(preds, top = featuresize)[0]\n",
        "  return results\n",
        "  #関数終わり"
      ],
      "metadata": {
        "id": "CWFzwevr9S4Q"
      },
      "execution_count": 4,
      "outputs": []
    },
    {
      "cell_type": "markdown",
      "source": [
        "###画像表示のための関数"
      ],
      "metadata": {
        "id": "HY6CDg2g_lDy"
      }
    },
    {
      "cell_type": "code",
      "source": [
        "def showimg(filename, title, i):\n",
        "  im = Image.open(filename)  #画像ファイルを開く\n",
        "  im_list = np.array(im)  #画像ビットデータをndarrayにする\n",
        "  plt.subplot(2, 5, i)\n",
        "  plt.title(title)\n",
        "  plt.axis(\"off\")\n",
        "  plt.imshow(im_list)\n",
        "  #関数終わり"
      ],
      "metadata": {
        "id": "Wi8JeJYD_KDu"
      },
      "execution_count": 5,
      "outputs": []
    },
    {
      "cell_type": "markdown",
      "source": [
        "###Kaggleにある画像データを利用する"
      ],
      "metadata": {
        "id": "gCEmCEsbCMLK"
      }
    },
    {
      "cell_type": "markdown",
      "source": [
        "###**指定されたURLからファイルをダウンロードする**"
      ],
      "metadata": {
        "id": "QqMnXem8v4xI"
      }
    },
    {
      "cell_type": "code",
      "source": [
        "#wgetでwebからファイルをダウンロードする\n",
        "#GoogleColabでコマンドを実行するときは、先頭に！マークを必ずつける事\n",
        "#小さいファイルをGoogle\n",
        "!wget --load-cookies /tmp/cookies.txt \"https://drive.google.com/uc?export=download&confirm=$(wget --quiet --save-cookies /tmp/cookies.txt --keep-session-cookies --no-check-certificate 'https://drive.google.com/uc?export=download&id=1WQ9KZ-St4BqUWkqYJZYBIXQ8tT92DW_2' -O- | sed -rn 's/.*confirm=([0-9A-Za-z_]+).*/\\1\\n/p')&id=1WQ9KZ-St4BqUWkqYJZYBIXQ8tT92DW_2\" -O train.zip && rm -rf /tmp/cookies.txt\n",
        "!wget --load-cookies /tmp/cookies.txt \"https://drive.google.com/uc?export=download&confirm=$(wget --quiet --save-cookies /tmp/cookies.txt --keep-session-cookies --no-check-certificate 'https://drive.google.com/uc?export=download&id=1WQ9KZ-St4BqUWkqYJZYBIXQ8tT92DW_2' -O- | sed -rn 's/.*confirm=([0-9A-Za-z_]+).*/\\1\\n/p')&id=1WQ9KZ-St4BqUWkqYJZYBIXQ8tT92DW_2\" -O test.zip && rm -rf /tmp/cookies.txt"
      ],
      "metadata": {
        "id": "2SEcJJFiBnHu",
        "colab": {
          "base_uri": "https://localhost:8080/"
        },
        "outputId": "96903f41-42ab-4eea-be97-379c84da4e1c"
      },
      "execution_count": 6,
      "outputs": [
        {
          "output_type": "stream",
          "name": "stdout",
          "text": [
            "--2022-10-04 00:51:20--  https://drive.google.com/uc?export=download&confirm=t&id=1WQ9KZ-St4BqUWkqYJZYBIXQ8tT92DW_2\n",
            "Resolving drive.google.com (drive.google.com)... 142.251.162.139, 142.251.162.100, 142.251.162.138, ...\n",
            "Connecting to drive.google.com (drive.google.com)|142.251.162.139|:443... connected.\n",
            "HTTP request sent, awaiting response... 303 See Other\n",
            "Location: https://doc-0k-1s-docs.googleusercontent.com/docs/securesc/ha0ro937gcuc7l7deffksulhg5h7mbp1/kvaa0th1cc6gl7gi24oh0v83tbcapr77/1664844675000/14334177730080324288/*/1WQ9KZ-St4BqUWkqYJZYBIXQ8tT92DW_2?e=download&uuid=48203ef1-8bc9-4805-a5ee-1040bc113bc1 [following]\n",
            "Warning: wildcards not supported in HTTP.\n",
            "--2022-10-04 00:51:20--  https://doc-0k-1s-docs.googleusercontent.com/docs/securesc/ha0ro937gcuc7l7deffksulhg5h7mbp1/kvaa0th1cc6gl7gi24oh0v83tbcapr77/1664844675000/14334177730080324288/*/1WQ9KZ-St4BqUWkqYJZYBIXQ8tT92DW_2?e=download&uuid=48203ef1-8bc9-4805-a5ee-1040bc113bc1\n",
            "Resolving doc-0k-1s-docs.googleusercontent.com (doc-0k-1s-docs.googleusercontent.com)... 172.217.203.132, 2607:f8b0:400c:c07::84\n",
            "Connecting to doc-0k-1s-docs.googleusercontent.com (doc-0k-1s-docs.googleusercontent.com)|172.217.203.132|:443... connected.\n",
            "HTTP request sent, awaiting response... 200 OK\n",
            "Length: 569872234 (543M) [application/x-zip-compressed]\n",
            "Saving to: ‘train.zip’\n",
            "\n",
            "train.zip           100%[===================>] 543.47M  70.6MB/s    in 8.0s    \n",
            "\n",
            "2022-10-04 00:51:29 (68.3 MB/s) - ‘train.zip’ saved [569872234/569872234]\n",
            "\n",
            "--2022-10-04 00:51:29--  https://drive.google.com/uc?export=download&confirm=t&id=1WQ9KZ-St4BqUWkqYJZYBIXQ8tT92DW_2\n",
            "Resolving drive.google.com (drive.google.com)... 142.251.162.139, 142.251.162.100, 142.251.162.138, ...\n",
            "Connecting to drive.google.com (drive.google.com)|142.251.162.139|:443... connected.\n",
            "HTTP request sent, awaiting response... 303 See Other\n",
            "Location: https://doc-0k-1s-docs.googleusercontent.com/docs/securesc/ha0ro937gcuc7l7deffksulhg5h7mbp1/kvaa0th1cc6gl7gi24oh0v83tbcapr77/1664844675000/14334177730080324288/*/1WQ9KZ-St4BqUWkqYJZYBIXQ8tT92DW_2?e=download&uuid=44780635-43f7-4103-a94f-53119db0d720 [following]\n",
            "Warning: wildcards not supported in HTTP.\n",
            "--2022-10-04 00:51:29--  https://doc-0k-1s-docs.googleusercontent.com/docs/securesc/ha0ro937gcuc7l7deffksulhg5h7mbp1/kvaa0th1cc6gl7gi24oh0v83tbcapr77/1664844675000/14334177730080324288/*/1WQ9KZ-St4BqUWkqYJZYBIXQ8tT92DW_2?e=download&uuid=44780635-43f7-4103-a94f-53119db0d720\n",
            "Resolving doc-0k-1s-docs.googleusercontent.com (doc-0k-1s-docs.googleusercontent.com)... 172.217.203.132, 2607:f8b0:400c:c07::84\n",
            "Connecting to doc-0k-1s-docs.googleusercontent.com (doc-0k-1s-docs.googleusercontent.com)|172.217.203.132|:443... connected.\n",
            "HTTP request sent, awaiting response... 200 OK\n",
            "Length: 569872234 (543M) [application/x-zip-compressed]\n",
            "Saving to: ‘test.zip’\n",
            "\n",
            "test.zip            100%[===================>] 543.47M  77.6MB/s    in 7.5s    \n",
            "\n",
            "2022-10-04 00:51:37 (72.2 MB/s) - ‘test.zip’ saved [569872234/569872234]\n",
            "\n"
          ]
        }
      ]
    },
    {
      "cell_type": "markdown",
      "source": [
        "##Colabに自分のGoogleアカウントのドライブをマウントする"
      ],
      "metadata": {
        "id": "2FHPUOmQyyM3"
      }
    },
    {
      "cell_type": "code",
      "source": [
        "#googleドライブを操作するモジュールをimport\n",
        "from google.colab import drive\n",
        "#googleドライブをマウント\n",
        "drive.mount('/content/drive')"
      ],
      "metadata": {
        "colab": {
          "base_uri": "https://localhost:8080/"
        },
        "id": "Oh-_iiAsvpbt",
        "outputId": "caff47b9-1377-4142-e6d1-e50e1b1b977f"
      },
      "execution_count": 7,
      "outputs": [
        {
          "output_type": "stream",
          "name": "stdout",
          "text": [
            "Mounted at /content/drive\n"
          ]
        }
      ]
    },
    {
      "cell_type": "markdown",
      "source": [
        "##DLしてきたファイルをマウントしてきたディレクトリにコピーする"
      ],
      "metadata": {
        "id": "VpVCcHeZ1ICg"
      }
    },
    {
      "cell_type": "code",
      "source": [
        "#コピーファイルを置くディレクトリを作る\n",
        "import os\n",
        "dir_path = \"/content/drive/My Drive/2022LATE\"\n",
        "#すでにディレクトリがあってもエラーにしない\n",
        "os.makedirs(dir_path, exist_ok=True)\n",
        "!pwd  #今いるディレクトリを表示\n",
        "#ファイルをコピー\n",
        "!cp train.zip \"/content/drive/My Drive/2022LATE\"\n",
        "#test.zipは一旦使わないのでコピーしない"
      ],
      "metadata": {
        "colab": {
          "base_uri": "https://localhost:8080/"
        },
        "id": "bcjq4zdYzhZn",
        "outputId": "f0b58036-ae06-4b0c-9fc5-5b07bc8f406b"
      },
      "execution_count": 8,
      "outputs": [
        {
          "output_type": "stream",
          "name": "stdout",
          "text": [
            "/content\n"
          ]
        }
      ]
    },
    {
      "cell_type": "markdown",
      "source": [
        "##GoogleドライブからColabへファイルをコピー"
      ],
      "metadata": {
        "id": "M17VoQpe4JSo"
      }
    },
    {
      "cell_type": "code",
      "source": [
        "!cp \"/content/drive/My Drive/2022LATE/train.zip\""
      ],
      "metadata": {
        "colab": {
          "base_uri": "https://localhost:8080/"
        },
        "id": "Kql8kFxh3KLH",
        "outputId": "80461191-46dd-4f48-ae74-5d4d0ca8c8e9"
      },
      "execution_count": 9,
      "outputs": [
        {
          "output_type": "stream",
          "name": "stdout",
          "text": [
            "cp: missing destination file operand after '/content/drive/My Drive/2022LATE/train.zip'\n",
            "Try 'cp --help' for more information.\n"
          ]
        }
      ]
    },
    {
      "cell_type": "markdown",
      "source": [
        "##zipファイルを解凍する"
      ],
      "metadata": {
        "id": "2gOEMa-k4nX9"
      }
    },
    {
      "cell_type": "code",
      "source": [
        "#unzipコマンドで解凍\n",
        "!unzip -o -q \"train.zip\"\n",
        "print(\"zip解凍完了\")"
      ],
      "metadata": {
        "colab": {
          "base_uri": "https://localhost:8080/"
        },
        "id": "p2tLgw2x4ddy",
        "outputId": "321542ad-b958-4d41-e362-5594f77ecb91"
      },
      "execution_count": 10,
      "outputs": [
        {
          "output_type": "stream",
          "name": "stdout",
          "text": [
            "zip解凍完了\n"
          ]
        }
      ]
    },
    {
      "cell_type": "markdown",
      "source": [
        "##解凍した画像を使って画像判定させる"
      ],
      "metadata": {
        "id": "hhOZC8mp51GH"
      }
    },
    {
      "cell_type": "code",
      "source": [
        "#画像を指定する変数\n",
        "#filename = \"train/cat.100.jpg\"\n",
        "filename = \"parkguide.jpg\"\n",
        "plt.figure(figsize=(20, 10))\n",
        "for i in range(1):\n",
        "  showimg(filename, \"What's this??\", i+1)\n",
        "#ループ終わり\n",
        "plt.show() \n",
        "\n",
        "#表示した画像を判定\n",
        "results = predict(filename, 10)\n",
        "for result in results:\n",
        "  print(result)"
      ],
      "metadata": {
        "colab": {
          "base_uri": "https://localhost:8080/",
          "height": 337
        },
        "id": "VTdtX12a5ETN",
        "outputId": "e123b0a4-9dd0-4df1-cb2a-82c7549760a3"
      },
      "execution_count": 12,
      "outputs": [
        {
          "output_type": "display_data",
          "data": {
            "text/plain": [
              "<Figure size 1440x720 with 1 Axes>"
            ],
            "image/png": "[encoded data removed]"
          },
          "metadata": {
            "needs_background": "light"
          }
        },
        {
          "output_type": "stream",
          "name": "stdout",
          "text": [
            "('n03840681', 'ocarina', 0.13852777)\n",
            "('n02948072', 'candle', 0.058741096)\n",
            "('n03930313', 'picket_fence', 0.058041938)\n",
            "('n04462240', 'toyshop', 0.047805957)\n",
            "('n02699494', 'altar', 0.046423584)\n",
            "('n04346328', 'stupa', 0.037613884)\n",
            "('n03970156', 'plunger', 0.033128623)\n",
            "('n03884397', 'panpipe', 0.033090197)\n",
            "('n04579432', 'whistle', 0.028667808)\n",
            "('n03017168', 'chime', 0.022883615)\n"
          ]
        }
      ]
    },
    {
      "cell_type": "code",
      "source": [],
      "metadata": {
        "id": "65hflQEG7FdG"
      },
      "execution_count": 11,
      "outputs": []
    }
  ]
}