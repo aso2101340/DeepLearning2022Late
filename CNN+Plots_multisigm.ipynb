{
  "nbformat": 4,
  "nbformat_minor": 0,
  "metadata": {
    "colab": {
      "provenance": [],
      "authorship_tag": "ABX9TyPV8GHWDnmCxPNJEtpfKGIC",
      "include_colab_link": true
    },
    "kernelspec": {
      "name": "python3",
      "display_name": "Python 3"
    },
    "language_info": {
      "name": "python"
    }
  },
  "cells": [
    {
      "cell_type": "markdown",
      "metadata": {
        "id": "view-in-github",
        "colab_type": "text"
      },
      "source": [
        "<a href=\"https://colab.research.google.com/github/aso2101340/DeepLearning2022Late/blob/main/CNN%2BPlots_multisigm.ipynb\" target=\"_parent\"><img src=\"https://colab.research.google.com/assets/colab-badge.svg\" alt=\"Open In Colab\"/></a>"
      ]
    },
    {
      "cell_type": "markdown",
      "source": [
        "#多クラスマルチラベル分類問題\n",
        "##複数の対象に対して、可能性を出す"
      ],
      "metadata": {
        "id": "DUt1mw9CF2-n"
      }
    },
    {
      "cell_type": "markdown",
      "source": [
        "###学習モデルのライブラリを読み込む"
      ],
      "metadata": {
        "id": "6uC6BSOJGcV3"
      }
    },
    {
      "cell_type": "code",
      "execution_count": 1,
      "metadata": {
        "id": "eFQ1BNDVEZ62"
      },
      "outputs": [],
      "source": [
        "from keras.models import Sequential, Model\n",
        "from keras.layers import Conv2D\n",
        "from keras.layers import Flatten\n",
        "from keras.layers import Dense"
      ]
    },
    {
      "cell_type": "markdown",
      "source": [
        "###SVG画像表示用のライブラリを読む込む"
      ],
      "metadata": {
        "id": "N8YKNQPbHSEh"
      }
    },
    {
      "cell_type": "code",
      "source": [
        "from IPython.display import SVG\n",
        "from keras.utils.vis_utils import model_to_dot"
      ],
      "metadata": {
        "id": "b0XHx_nKHcBx"
      },
      "execution_count": 2,
      "outputs": []
    },
    {
      "cell_type": "markdown",
      "source": [
        "##学習モデルを生成する"
      ],
      "metadata": {
        "id": "ACKt4qfGH9rd"
      }
    },
    {
      "cell_type": "code",
      "source": [
        "model =Sequential()"
      ],
      "metadata": {
        "id": "7QuQxjDIH8MW"
      },
      "execution_count": 3,
      "outputs": []
    },
    {
      "cell_type": "markdown",
      "source": [
        "##ニューロン層を追加する"
      ],
      "metadata": {
        "id": "LEroq9H3IdDS"
      }
    },
    {
      "cell_type": "code",
      "source": [
        "#畳み込み層を追加\n",
        "model.add(Conv2D(\n",
        "    filters = 3,  #フィルター3パターン\n",
        "    kernel_size = (3, 3),  #受容野縦3横3\n",
        "    input_shape = (6, 6, 1),  #入力画像の1個分、縦3横3\n",
        "    padding = 'same',  #ゼロパディング\n",
        "    name = 'Conv2D_1'\n",
        "))"
      ],
      "metadata": {
        "id": "iuSRhGSBIEkI"
      },
      "execution_count": 4,
      "outputs": []
    },
    {
      "cell_type": "code",
      "source": [
        "#全結合層を追加する\n",
        "model.add(Flatten(name = 'Flatten_1'))"
      ],
      "metadata": {
        "id": "G5npmFWeJ3WG"
      },
      "execution_count": 5,
      "outputs": []
    },
    {
      "cell_type": "code",
      "source": [
        "#全結合のデータを多値分類(他クラスマルチラベル分類)する層を追加\n",
        "model.add(Dense(units = 10,  #10個分の判定(YES/NO)についての可能性を出す\n",
        "                activation = 'sigmoid',  #活性化関数はsigmoid関数(結果：0～1)\n",
        "                name = 'Dense_1'\n",
        "    ))"
      ],
      "metadata": {
        "id": "4pm9Qzr_KUEz"
      },
      "execution_count": 6,
      "outputs": []
    },
    {
      "cell_type": "markdown",
      "source": [
        "##SVG画像でモデルの形を表示する"
      ],
      "metadata": {
        "id": "2IynYYBeM2ih"
      }
    },
    {
      "cell_type": "code",
      "source": [
        "SVG(model_to_dot(model, show_shapes = True).create(prog = 'dot', format = 'svg'))"
      ],
      "metadata": {
        "id": "0EK3NM0wL0hR",
        "colab": {
          "base_uri": "https://localhost:8080/",
          "height": 562
        },
        "outputId": "02dffa59-e4ae-4f72-a9dd-8b1c7f5b771f"
      },
      "execution_count": 8,
      "outputs": [
        {
          "output_type": "execute_result",
          "data": {
            "text/plain": [
              "<IPython.core.display.SVG object>"
            ],
            "image/svg+xml": "<svg height=\"405pt\" viewBox=\"0.00 0.00 296.00 304.00\" width=\"395pt\" xmlns=\"http://www.w3.org/2000/svg\" xmlns:xlink=\"http://www.w3.org/1999/xlink\">\n<g class=\"graph\" id=\"graph0\" transform=\"scale(1.3333 1.3333) rotate(0) translate(4 300)\">\n<title>G</title>\n<polygon fill=\"#ffffff\" points=\"-4,4 -4,-300 292,-300 292,4 -4,4\" stroke=\"transparent\"/>\n<!-- 139971666742736 -->\n<g class=\"node\" id=\"node1\">\n<title>139971666742736</title>\n<polygon fill=\"none\" points=\"0,-249.5 0,-295.5 288,-295.5 288,-249.5 0,-249.5\" stroke=\"#000000\"/>\n<text fill=\"#000000\" font-family=\"Times,serif\" font-size=\"14.00\" text-anchor=\"middle\" x=\"59.5\" y=\"-280.3\">Conv2D_1_input</text>\n<polyline fill=\"none\" points=\"0,-272.5 119,-272.5 \" stroke=\"#000000\"/>\n<text fill=\"#000000\" font-family=\"Times,serif\" font-size=\"14.00\" text-anchor=\"middle\" x=\"59.5\" y=\"-257.3\">InputLayer</text>\n<polyline fill=\"none\" points=\"119,-249.5 119,-295.5 \" stroke=\"#000000\"/>\n<text fill=\"#000000\" font-family=\"Times,serif\" font-size=\"14.00\" text-anchor=\"middle\" x=\"148\" y=\"-280.3\">input:</text>\n<polyline fill=\"none\" points=\"119,-272.5 177,-272.5 \" stroke=\"#000000\"/>\n<text fill=\"#000000\" font-family=\"Times,serif\" font-size=\"14.00\" text-anchor=\"middle\" x=\"148\" y=\"-257.3\">output:</text>\n<polyline fill=\"none\" points=\"177,-249.5 177,-295.5 \" stroke=\"#000000\"/>\n<text fill=\"#000000\" font-family=\"Times,serif\" font-size=\"14.00\" text-anchor=\"middle\" x=\"232.5\" y=\"-280.3\">[(None, 6, 6, 1)]</text>\n<polyline fill=\"none\" points=\"177,-272.5 288,-272.5 \" stroke=\"#000000\"/>\n<text fill=\"#000000\" font-family=\"Times,serif\" font-size=\"14.00\" text-anchor=\"middle\" x=\"232.5\" y=\"-257.3\">[(None, 6, 6, 1)]</text>\n</g>\n<!-- 139969805288592 -->\n<g class=\"node\" id=\"node2\">\n<title>139969805288592</title>\n<polygon fill=\"none\" points=\"23,-166.5 23,-212.5 265,-212.5 265,-166.5 23,-166.5\" stroke=\"#000000\"/>\n<text fill=\"#000000\" font-family=\"Times,serif\" font-size=\"14.00\" text-anchor=\"middle\" x=\"64\" y=\"-197.3\">Conv2D_1</text>\n<polyline fill=\"none\" points=\"23,-189.5 105,-189.5 \" stroke=\"#000000\"/>\n<text fill=\"#000000\" font-family=\"Times,serif\" font-size=\"14.00\" text-anchor=\"middle\" x=\"64\" y=\"-174.3\">Conv2D</text>\n<polyline fill=\"none\" points=\"105,-166.5 105,-212.5 \" stroke=\"#000000\"/>\n<text fill=\"#000000\" font-family=\"Times,serif\" font-size=\"14.00\" text-anchor=\"middle\" x=\"134\" y=\"-197.3\">input:</text>\n<polyline fill=\"none\" points=\"105,-189.5 163,-189.5 \" stroke=\"#000000\"/>\n<text fill=\"#000000\" font-family=\"Times,serif\" font-size=\"14.00\" text-anchor=\"middle\" x=\"134\" y=\"-174.3\">output:</text>\n<polyline fill=\"none\" points=\"163,-166.5 163,-212.5 \" stroke=\"#000000\"/>\n<text fill=\"#000000\" font-family=\"Times,serif\" font-size=\"14.00\" text-anchor=\"middle\" x=\"214\" y=\"-197.3\">(None, 6, 6, 1)</text>\n<polyline fill=\"none\" points=\"163,-189.5 265,-189.5 \" stroke=\"#000000\"/>\n<text fill=\"#000000\" font-family=\"Times,serif\" font-size=\"14.00\" text-anchor=\"middle\" x=\"214\" y=\"-174.3\">(None, 6, 6, 3)</text>\n</g>\n<!-- 139971666742736&#45;&gt;139969805288592 -->\n<g class=\"edge\" id=\"edge1\">\n<title>139971666742736-&gt;139969805288592</title>\n<path d=\"M144,-249.3799C144,-241.1745 144,-231.7679 144,-222.8786\" fill=\"none\" stroke=\"#000000\"/>\n<polygon fill=\"#000000\" points=\"147.5001,-222.784 144,-212.784 140.5001,-222.784 147.5001,-222.784\" stroke=\"#000000\"/>\n</g>\n<!-- 139969744214096 -->\n<g class=\"node\" id=\"node3\">\n<title>139969744214096</title>\n<polygon fill=\"none\" points=\"28.5,-83.5 28.5,-129.5 259.5,-129.5 259.5,-83.5 28.5,-83.5\" stroke=\"#000000\"/>\n<text fill=\"#000000\" font-family=\"Times,serif\" font-size=\"14.00\" text-anchor=\"middle\" x=\"64\" y=\"-114.3\">Flatten_1</text>\n<polyline fill=\"none\" points=\"28.5,-106.5 99.5,-106.5 \" stroke=\"#000000\"/>\n<text fill=\"#000000\" font-family=\"Times,serif\" font-size=\"14.00\" text-anchor=\"middle\" x=\"64\" y=\"-91.3\">Flatten</text>\n<polyline fill=\"none\" points=\"99.5,-83.5 99.5,-129.5 \" stroke=\"#000000\"/>\n<text fill=\"#000000\" font-family=\"Times,serif\" font-size=\"14.00\" text-anchor=\"middle\" x=\"128.5\" y=\"-114.3\">input:</text>\n<polyline fill=\"none\" points=\"99.5,-106.5 157.5,-106.5 \" stroke=\"#000000\"/>\n<text fill=\"#000000\" font-family=\"Times,serif\" font-size=\"14.00\" text-anchor=\"middle\" x=\"128.5\" y=\"-91.3\">output:</text>\n<polyline fill=\"none\" points=\"157.5,-83.5 157.5,-129.5 \" stroke=\"#000000\"/>\n<text fill=\"#000000\" font-family=\"Times,serif\" font-size=\"14.00\" text-anchor=\"middle\" x=\"208.5\" y=\"-114.3\">(None, 6, 6, 3)</text>\n<polyline fill=\"none\" points=\"157.5,-106.5 259.5,-106.5 \" stroke=\"#000000\"/>\n<text fill=\"#000000\" font-family=\"Times,serif\" font-size=\"14.00\" text-anchor=\"middle\" x=\"208.5\" y=\"-91.3\">(None, 108)</text>\n</g>\n<!-- 139969805288592&#45;&gt;139969744214096 -->\n<g class=\"edge\" id=\"edge2\">\n<title>139969805288592-&gt;139969744214096</title>\n<path d=\"M144,-166.3799C144,-158.1745 144,-148.7679 144,-139.8786\" fill=\"none\" stroke=\"#000000\"/>\n<polygon fill=\"#000000\" points=\"147.5001,-139.784 144,-129.784 140.5001,-139.784 147.5001,-139.784\" stroke=\"#000000\"/>\n</g>\n<!-- 139969805289232 -->\n<g class=\"node\" id=\"node4\">\n<title>139969805289232</title>\n<polygon fill=\"none\" points=\"38,-.5 38,-46.5 250,-46.5 250,-.5 38,-.5\" stroke=\"#000000\"/>\n<text fill=\"#000000\" font-family=\"Times,serif\" font-size=\"14.00\" text-anchor=\"middle\" x=\"71.5\" y=\"-31.3\">Dense_1</text>\n<polyline fill=\"none\" points=\"38,-23.5 105,-23.5 \" stroke=\"#000000\"/>\n<text fill=\"#000000\" font-family=\"Times,serif\" font-size=\"14.00\" text-anchor=\"middle\" x=\"71.5\" y=\"-8.3\">Dense</text>\n<polyline fill=\"none\" points=\"105,-.5 105,-46.5 \" stroke=\"#000000\"/>\n<text fill=\"#000000\" font-family=\"Times,serif\" font-size=\"14.00\" text-anchor=\"middle\" x=\"134\" y=\"-31.3\">input:</text>\n<polyline fill=\"none\" points=\"105,-23.5 163,-23.5 \" stroke=\"#000000\"/>\n<text fill=\"#000000\" font-family=\"Times,serif\" font-size=\"14.00\" text-anchor=\"middle\" x=\"134\" y=\"-8.3\">output:</text>\n<polyline fill=\"none\" points=\"163,-.5 163,-46.5 \" stroke=\"#000000\"/>\n<text fill=\"#000000\" font-family=\"Times,serif\" font-size=\"14.00\" text-anchor=\"middle\" x=\"206.5\" y=\"-31.3\">(None, 108)</text>\n<polyline fill=\"none\" points=\"163,-23.5 250,-23.5 \" stroke=\"#000000\"/>\n<text fill=\"#000000\" font-family=\"Times,serif\" font-size=\"14.00\" text-anchor=\"middle\" x=\"206.5\" y=\"-8.3\">(None, 10)</text>\n</g>\n<!-- 139969744214096&#45;&gt;139969805289232 -->\n<g class=\"edge\" id=\"edge3\">\n<title>139969744214096-&gt;139969805289232</title>\n<path d=\"M144,-83.3799C144,-75.1745 144,-65.7679 144,-56.8786\" fill=\"none\" stroke=\"#000000\"/>\n<polygon fill=\"#000000\" points=\"147.5001,-56.784 144,-46.784 140.5001,-56.784 147.5001,-56.784\" stroke=\"#000000\"/>\n</g>\n</g>\n</svg>"
          },
          "metadata": {},
          "execution_count": 8
        }
      ]
    },
    {
      "cell_type": "code",
      "source": [],
      "metadata": {
        "id": "If8ESdzTys48"
      },
      "execution_count": null,
      "outputs": []
    }
  ]
}